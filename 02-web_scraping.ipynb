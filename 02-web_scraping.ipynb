{
 "cells": [
  {
   "cell_type": "markdown",
   "metadata": {
    "colab_type": "text",
    "id": "00Z9Sz8gw7BY"
   },
   "source": [
    "# การทำ Web Scraping ด้วย Python\n",
    "\n",
    "#### --- แนะนำให้ใช้ Python 3 ---\n",
    "\n",
    "ก่อนอื่นเรามาทำการ Import Library ต่างๆ ที่จำเป็นต้องใช้กัน\n",
    "\n",
    "- `urllib` ใช้ในการเปิด url และโหลดหน้าเวบเพจ\n",
    "- `BeautifulSoup` ใช้ในการประมวลผลหน้า HTML \n",
    "- `sleep` ใช้ในการรอก่อนจะส่ง request หน้าเวบอันต่อไป\n",
    "- `copy` ใช้ในการ copy object "
   ]
  },
  {
   "cell_type": "code",
   "execution_count": 1,
   "metadata": {
    "colab": {
     "autoexec": {
      "startup": false,
      "wait_interval": 0
     }
    },
    "colab_type": "code",
    "id": "k3wgqT1Qw7Ba"
   },
   "outputs": [],
   "source": [
    "import urllib\n",
    "from bs4 import BeautifulSoup\n",
    "from time import sleep\n",
    "import copy"
   ]
  },
  {
   "cell_type": "markdown",
   "metadata": {},
   "source": [
    "ทดลองดึงข้อมูล GDH จาก Wikipedia https://th.wikipedia.org/wiki/จีดีเอช_ห้าห้าเก้า\n",
    "\n",
    "<img src=\"https://i.bug-a-boo.tv/images/5d67f5de7caf08b85e02d97e2770b7ff/bugabooimage.jpg\"/>"
   ]
  },
  {
   "cell_type": "markdown",
   "metadata": {},
   "source": [
    "โดยปกติแล้ว url จะต้องประกอบไปด้วยตัวอักษร ASCII เท่านั้น นั่นคือเป็นภาษาไทยไม่ได้! เราจะต้องทำการแปลง (หรือเรียกว่าการ quote string) ให้อยู่ในรูปแบบของ percent-encoded string เสียก่อนโดยใช้ฟังก์ชัน `urllib.quote()` (ปกติ browser ของเราจะทำการแปลงให้อัตโนมัติ ถ้าเราพิมพ์ภาษาไทยเข้าไป) "
   ]
  },
  {
   "cell_type": "markdown",
   "metadata": {},
   "source": [
    "# Section 1 : Quote/Unquote"
   ]
  },
  {
   "cell_type": "code",
   "execution_count": 2,
   "metadata": {
    "colab": {
     "autoexec": {
      "startup": false,
      "wait_interval": 0
     }
    },
    "colab_type": "code",
    "id": "p5pEKdxMw7Bg"
   },
   "outputs": [
    {
     "name": "stdout",
     "output_type": "stream",
     "text": [
      "จีดีเอช_ห้าห้าเก้า => %E0%B8%88%E0%B8%B5%E0%B8%94%E0%B8%B5%E0%B9%80%E0%B8%AD%E0%B8%8A_%E0%B8%AB%E0%B9%89%E0%B8%B2%E0%B8%AB%E0%B9%89%E0%B8%B2%E0%B9%80%E0%B8%81%E0%B9%89%E0%B8%B2\n",
      "\n",
      "\n",
      "http://th.wikipedia.org/wiki/จีดีเอช_ห้าห้าเก้า\n"
     ]
    }
   ],
   "source": [
    "page = 'จีดีเอช_ห้าห้าเก้า'\n",
    "\n",
    "print('จีดีเอช_ห้าห้าเก้า' + ' => ' + urllib.parse.quote(page)) # Use urllib.quote() for Python 2\n",
    "\n",
    "url = 'http://th.wikipedia.org/wiki/' + page\n",
    "\n",
    "print(\"\\n\")\n",
    "print(url)"
   ]
  },
  {
   "cell_type": "code",
   "execution_count": 3,
   "metadata": {},
   "outputs": [
    {
     "name": "stdout",
     "output_type": "stream",
     "text": [
      "http://th.wikipedia.org/wiki/%E0%B8%88%E0%B8%B5%E0%B8%94%E0%B8%B5%E0%B9%80%E0%B8%AD%E0%B8%8A_%E0%B8%AB%E0%B9%89%E0%B8%B2%E0%B8%AB%E0%B9%89%E0%B8%B2%E0%B9%80%E0%B8%81%E0%B9%89%E0%B8%B2\n"
     ]
    }
   ],
   "source": [
    "# ----- TO DO 1.1 ----- \n",
    "# แปลงข้อมูลในตัวแปร page โดยใช้ urllib.parse.quote() ให้อยู่ในรูปแบบ percent-encoded string \n",
    "# แล้วนำไปต่อท้าย 'http://th.wikipedia.org/wiki/' แล้วเก็บไว้ในตัวแปร url ตามเดิม\n",
    "\n",
    "url = 'http://th.wikipedia.org/wiki/' + urllib.parse.quote(page)\n",
    "print(url)"
   ]
  },
  {
   "cell_type": "markdown",
   "metadata": {},
   "source": [
    "ผลลัพธ์ที่ควรจะได้คือ \n",
    "\n",
    "<img src=\"source/result1.png\"/>"
   ]
  },
  {
   "cell_type": "markdown",
   "metadata": {},
   "source": [
    "เมื่อได้ url ที่พร้อมใช้งานแล้ว เราก็เรียก `urllib.urlopen()` ตามด้วยคำสั่ง `read()` เพื่ออ่านไฟล์ HTML ได้เลย \n",
    "\n",
    "ก่อนจะ `print()` เราอาจจะอยาก unquote string ก่อน เพื่อให้เราอ่าน url ใน link ต่างๆ บนหน้า HTML ที่เป็นภาษาไทยได้ง่ายขึ้น (ไม่เชื่อลอง `print()` แบบไม่ unquote ดู!)"
   ]
  },
  {
   "cell_type": "code",
   "execution_count": 4,
   "metadata": {
    "colab": {
     "autoexec": {
      "startup": false,
      "wait_interval": 0
     }
    },
    "colab_type": "code",
    "id": "ybhH2sBTw7Bl"
   },
   "outputs": [
    {
     "name": "stdout",
     "output_type": "stream",
     "text": [
      "a2\",\"wgNoticeProject\":\"wikipedia\",\"wgInternalRedirectTargetUrl\":\"/wiki/%E0%B8%88%E0%B8%B5%E0%B8%94%E0%B8%B5%E0%B9%80%E0%B8%AD%E0%B8%8A\",\"wgWikibaseItemId\":\"Q21880729\",\"wgCentralAuthMobileDomain\":!1,\"w\n",
      "\n",
      "\n",
      "a2\",\"wgNoticeProject\":\"wikipedia\",\"wgInternalRedirectTargetUrl\":\"/wiki/จีดีเอช\",\"wgWikibaseItemId\":\"Q21880729\",\"wgCentralAuthMobileDomain\":!1,\"wgEditSubmitButtonLabelPublish\":!0,\"wgSiteNoticeId\":\"2.0\"\n"
     ]
    }
   ],
   "source": [
    "html = urllib.request.urlopen(url).read() \n",
    "\n",
    "# ลองสังเกตผลก่อนหลัง unquote ดูสิ\n",
    "\n",
    "print(str(html)[4800:5000])\n",
    "\n",
    "print(\"\\n\")\n",
    "\n",
    "print(urllib.parse.unquote(str(html))[4800:5000]) "
   ]
  },
  {
   "cell_type": "markdown",
   "metadata": {},
   "source": [
    "# Section 2 : BeautifulSoup"
   ]
  },
  {
   "cell_type": "markdown",
   "metadata": {
    "colab_type": "text",
    "id": "KxovZKb3w7Bo"
   },
   "source": [
    "จากนั้นก็เรียกใช้งาน BeautifulSoup เพื่อทำการประมวลผล (parse) หน้า HTML ที่เราได้มา "
   ]
  },
  {
   "cell_type": "code",
   "execution_count": 5,
   "metadata": {
    "colab": {
     "autoexec": {
      "startup": false,
      "wait_interval": 0
     }
    },
    "colab_type": "code",
    "id": "Wom5UglIw7Bp"
   },
   "outputs": [
    {
     "name": "stdout",
     "output_type": "stream",
     "text": [
      "<!DOCTYPE html>\n",
      "<html class=\"client-nojs\" dir=\"ltr\" lang=\"th\">\n",
      " <head>\n",
      "  <meta charset=\"utf-8\"/>\n",
      "  <title>\n",
      "   จีดีเอช - วิกิพีเดีย\n",
      "  </title>\n",
      "  <script>\n",
      "   document.documentElement.className=\"client-js\";RLCONF={\"wgCanonicalNamespace\":\"\",\"wgCanonicalSpecialPageName\":!1,\"wgNamespaceNumber\":0,\"wgPageName\":\"จีดีเอช\",\"wgTitle\":\"จีดีเอช\",\"wgCurRevisionId\":8501932,\"wgRevisionId\":8501932,\"wgArticleId\":755900,\"wgIsArticle\":!0,\"wgIsRedirect\":!1,\"wgAction\":\"view\",\"wgUserName\":null,\"wgUserGroups\":[\"*\"],\"wgCategories\":[\"จีดีเอช ห้าห้าเก้า\",\"บริษัทของไทย\",\"จีเอ็มเอ็ม แกรมมี่\",\"ธุรกิจภาพยนตร์\",\"บริษัทผู้สร้างภาพยนตร์ไทย\",\"บริษัทที่ก่อตั้งในปี พ.ศ. 2558\"],\"wgBreakFrames\":!1,\"wgPageContentLanguage\":\"th\",\"wgPageContentModel\":\"wikitext\",\"wgSeparatorTransformTable\":[\"\",\"\"],\"wgDigitTransformTable\":[\"\",\"\"],\"wgDefaultDateFormat\":\"thai\",\"wgMonthNames\":[\"\",\"มกราคม\",\"กุมภาพันธ์\",\n",
      "\"มีนาคม\",\"เมษายน\",\"พฤษภาคม\",\"มิถุนายน\",\"กรกฎาคม\",\"สิงหาคม\",\"กันยายน\",\"ตุลาคม\",\"พฤศจิกายน\",\"ธันวาคม\"],\"wgMonthNamesShort\":[\"\",\"ม.ค.\",\"\n"
     ]
    }
   ],
   "source": [
    "soup = BeautifulSoup(html, 'html.parser')\n",
    "\n",
    "# เลือกมาแสดงผลแค่ 1,000 อักขระจะได้ไม่ยาวจนเกินไป\n",
    "# เมธอด .prettify จะช่วยจัดหน้า html ให้สวยงามและดูง่ายขึ้น\n",
    "\n",
    "print(soup.prettify()[:1000])"
   ]
  },
  {
   "cell_type": "markdown",
   "metadata": {},
   "source": [
    "## บริษัทในเครือปัจุบันของ GDH\n",
    "\n",
    "ในแบบฝึกหัดนี้เราจะทำการดึงข้อมูลบริษัทในเครือปัจจุบันและรายชื่อผู้กำกับภาพยนตร์ในสังกัด GDH จากหน้าวิกิพีเดียกัน \n",
    "\n",
    "<img src=\"source/current_branch.png\" width=200>\n",
    "\n",
    "จากภาพข้างต้น จะเห็นได้ว่าหัวข้อของตารางที่เขียนว่า **ปัจจุบัน** นั้น อยู่ภายใน Tag `<dt>` (description term) ทีนี้เรามาดูกันว่า เราจะสามารถดึง Element นั้นออกมาใช้งานได้อย่างไรบ้าง ค่อยๆลอง uncomment แต่ละวิธีแล้วลองรันดู"
   ]
  },
  {
   "cell_type": "code",
   "execution_count": 6,
   "metadata": {},
   "outputs": [
    {
     "name": "stdout",
     "output_type": "stream",
     "text": [
      "1. soup.find('dt'):\n",
      "<dt>ปัจจุบัน</dt>\n"
     ]
    }
   ],
   "source": [
    "# soup.find? \n",
    "\n",
    "print(\"1. soup.find('dt'):\")\n",
    "print(soup.find('dt'))\n",
    "\n",
    "#print(\"2. soup.dt:\") # shorthand \n",
    "#print(soup.dt) \n",
    "\n",
    "#print(\"3. soup.find_all('dt'):\")\n",
    "#print(soup.find_all('dt'))\n",
    "\n",
    "# print(\"4. soup('dt'):\") # shorthand \n",
    "# print(soup('dt')) \n",
    "\n",
    "#print(\"5. soup.find_all('dt')[0]:\")\n",
    "#print(soup.find_all('dt')[0])"
   ]
  },
  {
   "cell_type": "markdown",
   "metadata": {},
   "source": [
    "เนื่องจากหัวข้อปัจจุบันอยู่ใน Tag `<dt>` อันแรกของเพจนั้น เราสามารถเรียกใช้ element ได้ด้วยคำสั่ง `soup.find('dt')` หรือ `soup.dt`\n",
    "หรือหากเราอยากจะหา element `<dt>` ทั้งหมดก่อน แล้วค่อยเลือก element ที่เราต้องการ ก็ทำได้เช่นกัน แบบในตัวอย่างสุดท้าย"
   ]
  },
  {
   "cell_type": "code",
   "execution_count": 7,
   "metadata": {},
   "outputs": [
    {
     "name": "stdout",
     "output_type": "stream",
     "text": [
      "<dt>ปัจจุบัน</dt>\n"
     ]
    }
   ],
   "source": [
    "# ตัวอย่างการค้นหาชื่อบริษัท โดยเริ่มจากการหา tag <dt> แล้วค่อยเข้าไปหา tag <ul> จากนั้นหาทุก tag <li>\n",
    "\n",
    "'''\n",
    "ถ้าสังเกตดีๆจะพบว่ามี hierarchy ดังนี้ เป้าหมายของเราคือต้องการข้อมูลใน <li> ทั้งหมด\n",
    "\n",
    "<dl>\n",
    "<dt>ปัจจุบัน</dt>\n",
    "<dl>\n",
    "<ul>\n",
    "    <li>จอกว้างฟิลม์</li>\n",
    "    <li>นาดาว บางกอก</li>\n",
    "    <li>งานดีทวีสุข</li>\n",
    "    <li>..........</li>\n",
    "</ul>\n",
    "\n",
    "'''\n",
    "\n",
    "# เริ่มต้น การที่เราจะได้รายชื่อทั้งหมดมาได้ก็ต้องหาจุดเริ่มต้นของเรานั่นคือคำว่า \"ปัจจุบัน\"\n",
    "# ซึ่งมี tag <dt> ครอบอยู่ดังนั้นเราจะหา <dt> กันก่อน\n",
    "\n",
    "new_comp = soup.find('dt')\n",
    "print(new_comp)"
   ]
  },
  {
   "cell_type": "code",
   "execution_count": 8,
   "metadata": {},
   "outputs": [
    {
     "name": "stdout",
     "output_type": "stream",
     "text": [
      "<ul><li><a href=\"/wiki/%E0%B8%88%E0%B8%AD%E0%B8%81%E0%B8%A7%E0%B9%89%E0%B8%B2%E0%B8%87_%E0%B8%9F%E0%B8%B4%E0%B8%A5%E0%B9%8C%E0%B8%A1\" title=\"จอกว้าง ฟิล์ม\">จอกว้าง ฟิล์ม</a></li>\n",
      "<li><a href=\"/wiki/%E0%B8%99%E0%B8%B2%E0%B8%94%E0%B8%B2%E0%B8%A7%E0%B8%9A%E0%B8%B2%E0%B8%87%E0%B8%81%E0%B8%AD%E0%B8%81\" title=\"นาดาวบางกอก\">นาดาวบางกอก</a></li>\n",
      "<li><a class=\"new\" href=\"/w/index.php?title=%E0%B8%87%E0%B8%B2%E0%B8%99%E0%B8%94%E0%B8%B5%E0%B8%97%E0%B8%A7%E0%B8%B5%E0%B8%AA%E0%B8%B8%E0%B8%82&amp;action=edit&amp;redlink=1\" title=\"งานดีทวีสุข (ไม่มีหน้า)\">งานดีทวีสุข</a></li>\n",
      "<li><a class=\"new\" href=\"/w/index.php?title=%E0%B9%80%E0%B8%AA%E0%B8%B5%E0%B8%A2%E0%B8%87%E0%B8%94%E0%B8%B5%E0%B8%97%E0%B8%A7%E0%B8%B5%E0%B8%AA%E0%B8%B8%E0%B8%82&amp;action=edit&amp;redlink=1\" title=\"เสียงดีทวีสุข (ไม่มีหน้า)\">เสียงดีทวีสุข</a></li>\n",
      "<li><a class=\"new\" href=\"/w/index.php?title=%E0%B8%AA%E0%B8%A7%E0%B8%B1%E0%B8%AA%E0%B8%94%E0%B8%B5%E0%B8%97%E0%B8%A7%E0%B8%B5%E0%B8%AA%E0%B8%B8%E0%B8%82&amp;action=edit&amp;redlink=1\" title=\"สวัสดีทวีสุข (ไม่มีหน้า)\">สวัสดีทวีสุข</a></li>\n",
      "<li><a class=\"new\" href=\"/w/index.php?title=%E0%B8%81%E0%B8%B9%E0%B9%8A%E0%B8%94%E0%B8%98%E0%B8%B4%E0%B8%87%E0%B9%81%E0%B8%AE%E0%B8%9E%E0%B9%80%E0%B8%9E%E0%B9%88%E0%B8%99&amp;action=edit&amp;redlink=1\" title=\"กู๊ดธิงแฮพเพ่น (ไม่มีหน้า)\">กู๊ดธิงแฮพเพ่น</a></li></ul>\n"
     ]
    }
   ],
   "source": [
    "# หากดูใน hierarchy จะพบว่า <li> อยู่ภาพใต้ <ul> ซึ่ง <ul> อยู่ถัดไปจาก <dt> ที่เราเคยค้นหามาก่อนหน้านี้\n",
    "# ดังนั้นเราสามารถค้นหา <ul> ที่อยู่ติดกันได้โดยใช้คำสั่ง find_next('ul') ดังตัวอย่างด้านล่าง\n",
    "\n",
    "new_comp = soup.find('dt').find_next('ul')\n",
    "print(new_comp)\n",
    "\n",
    "# ดูที่ผลลัพธ์! เนื่องจาก <li> อยู่ภายใต้ <ul> เวลาเรา find <ul> เราจะได้ลูกหลานที่อยู่ภายใน tag นั้นติดมาด้วย\n",
    "# ซึ่งก็คือได้ <li> ทั้งหมดติดมาด้วยนั่นเอง"
   ]
  },
  {
   "cell_type": "code",
   "execution_count": 9,
   "metadata": {},
   "outputs": [
    {
     "name": "stdout",
     "output_type": "stream",
     "text": [
      "Total length in list = 6\n",
      "\n",
      "<li><a href=\"/wiki/%E0%B8%88%E0%B8%AD%E0%B8%81%E0%B8%A7%E0%B9%89%E0%B8%B2%E0%B8%87_%E0%B8%9F%E0%B8%B4%E0%B8%A5%E0%B9%8C%E0%B8%A1\" title=\"จอกว้าง ฟิล์ม\">จอกว้าง ฟิล์ม</a></li>\n",
      "\n",
      "\n",
      "<li><a href=\"/wiki/%E0%B8%99%E0%B8%B2%E0%B8%94%E0%B8%B2%E0%B8%A7%E0%B8%9A%E0%B8%B2%E0%B8%87%E0%B8%81%E0%B8%AD%E0%B8%81\" title=\"นาดาวบางกอก\">นาดาวบางกอก</a></li>\n",
      "\n",
      "\n",
      "<li><a class=\"new\" href=\"/w/index.php?title=%E0%B8%87%E0%B8%B2%E0%B8%99%E0%B8%94%E0%B8%B5%E0%B8%97%E0%B8%A7%E0%B8%B5%E0%B8%AA%E0%B8%B8%E0%B8%82&amp;action=edit&amp;redlink=1\" title=\"งานดีทวีสุข (ไม่มีหน้า)\">งานดีทวีสุข</a></li>\n",
      "\n",
      "\n",
      "<li><a class=\"new\" href=\"/w/index.php?title=%E0%B9%80%E0%B8%AA%E0%B8%B5%E0%B8%A2%E0%B8%87%E0%B8%94%E0%B8%B5%E0%B8%97%E0%B8%A7%E0%B8%B5%E0%B8%AA%E0%B8%B8%E0%B8%82&amp;action=edit&amp;redlink=1\" title=\"เสียงดีทวีสุข (ไม่มีหน้า)\">เสียงดีทวีสุข</a></li>\n",
      "\n",
      "\n",
      "<li><a class=\"new\" href=\"/w/index.php?title=%E0%B8%AA%E0%B8%A7%E0%B8%B1%E0%B8%AA%E0%B8%94%E0%B8%B5%E0%B8%97%E0%B8%A7%E0%B8%B5%E0%B8%AA%E0%B8%B8%E0%B8%82&amp;action=edit&amp;redlink=1\" title=\"สวัสดีทวีสุข (ไม่มีหน้า)\">สวัสดีทวีสุข</a></li>\n",
      "\n",
      "\n",
      "<li><a class=\"new\" href=\"/w/index.php?title=%E0%B8%81%E0%B8%B9%E0%B9%8A%E0%B8%94%E0%B8%98%E0%B8%B4%E0%B8%87%E0%B9%81%E0%B8%AE%E0%B8%9E%E0%B9%80%E0%B8%9E%E0%B9%88%E0%B8%99&amp;action=edit&amp;redlink=1\" title=\"กู๊ดธิงแฮพเพ่น (ไม่มีหน้า)\">กู๊ดธิงแฮพเพ่น</a></li>\n",
      "\n",
      "\n"
     ]
    }
   ],
   "source": [
    "# ในขั้นตอนนี้เราจะดึงข้อมูลจาก <li> ทั้งหมดออกมา หากเราใช้ find_next('li')เราจะได้แค่ <li> อันแรกออกมา\n",
    "# ดังนั้นเราจะใช้ find_all('li') เพื่อให้ได้ทุก <li> ที่อยู่ภายใน <ul>\n",
    "\n",
    "new_comp = soup.find('dt').find_next('ul').find_all('li')\n",
    "\n",
    "# แสดงจำนวนข้อมูลภายใน list\n",
    "print(\"Total length in list = \"+str(len(new_comp))+\"\\n\")\n",
    "\n",
    "# ใช้ for loop เพื่อแสดงผลข้อมูลแต่ละตัวใน new_comp_list\n",
    "for t in new_comp:\n",
    "    print(t)\n",
    "    print(\"\\n\")"
   ]
  },
  {
   "cell_type": "code",
   "execution_count": 10,
   "metadata": {},
   "outputs": [
    {
     "name": "stdout",
     "output_type": "stream",
     "text": [
      "จอกว้าง ฟิล์ม\n",
      "นาดาวบางกอก\n",
      "งานดีทวีสุข\n",
      "เสียงดีทวีสุข\n",
      "สวัสดีทวีสุข\n",
      "กู๊ดธิงแฮพเพ่น\n"
     ]
    }
   ],
   "source": [
    "# การเอาค่าออกมาจาก tag ก็ต้องดูว่าค่านั้นอยู่ภายใต้ tag ย่อยๆอะไร จากตัวอย่างก่อนหน้าสังเกตว่า \n",
    "# <li> <a> จอกว้าง ฟิล์ม </a> </li>\n",
    "# สามารถแสดงผล text ได้ดังนี้\n",
    "\n",
    "for t in new_comp:\n",
    "    print(t.a.text)"
   ]
  },
  {
   "cell_type": "code",
   "execution_count": 11,
   "metadata": {},
   "outputs": [
    {
     "name": "stdout",
     "output_type": "stream",
     "text": [
      "Total length in list = 11\n",
      "\n",
      "<li><a href=\"/wiki/%E0%B8%88%E0%B8%AD%E0%B8%81%E0%B8%A7%E0%B9%89%E0%B8%B2%E0%B8%87_%E0%B8%9F%E0%B8%B4%E0%B8%A5%E0%B9%8C%E0%B8%A1\" title=\"จอกว้าง ฟิล์ม\">จอกว้าง ฟิล์ม</a></li>\n",
      "--------------------------------------------------------------------\n",
      "\n",
      "\n",
      "--------------------------------------------------------------------\n",
      "<li><a href=\"/wiki/%E0%B8%99%E0%B8%B2%E0%B8%94%E0%B8%B2%E0%B8%A7%E0%B8%9A%E0%B8%B2%E0%B8%87%E0%B8%81%E0%B8%AD%E0%B8%81\" title=\"นาดาวบางกอก\">นาดาวบางกอก</a></li>\n",
      "--------------------------------------------------------------------\n",
      "\n",
      "\n",
      "--------------------------------------------------------------------\n",
      "<li><a class=\"new\" href=\"/w/index.php?title=%E0%B8%87%E0%B8%B2%E0%B8%99%E0%B8%94%E0%B8%B5%E0%B8%97%E0%B8%A7%E0%B8%B5%E0%B8%AA%E0%B8%B8%E0%B8%82&amp;action=edit&amp;redlink=1\" title=\"งานดีทวีสุข (ไม่มีหน้า)\">งานดีทวีสุข</a></li>\n",
      "--------------------------------------------------------------------\n",
      "\n",
      "\n",
      "--------------------------------------------------------------------\n",
      "<li><a class=\"new\" href=\"/w/index.php?title=%E0%B9%80%E0%B8%AA%E0%B8%B5%E0%B8%A2%E0%B8%87%E0%B8%94%E0%B8%B5%E0%B8%97%E0%B8%A7%E0%B8%B5%E0%B8%AA%E0%B8%B8%E0%B8%82&amp;action=edit&amp;redlink=1\" title=\"เสียงดีทวีสุข (ไม่มีหน้า)\">เสียงดีทวีสุข</a></li>\n",
      "--------------------------------------------------------------------\n",
      "\n",
      "\n",
      "--------------------------------------------------------------------\n",
      "<li><a class=\"new\" href=\"/w/index.php?title=%E0%B8%AA%E0%B8%A7%E0%B8%B1%E0%B8%AA%E0%B8%94%E0%B8%B5%E0%B8%97%E0%B8%A7%E0%B8%B5%E0%B8%AA%E0%B8%B8%E0%B8%82&amp;action=edit&amp;redlink=1\" title=\"สวัสดีทวีสุข (ไม่มีหน้า)\">สวัสดีทวีสุข</a></li>\n",
      "--------------------------------------------------------------------\n",
      "\n",
      "\n",
      "--------------------------------------------------------------------\n",
      "<li><a class=\"new\" href=\"/w/index.php?title=%E0%B8%81%E0%B8%B9%E0%B9%8A%E0%B8%94%E0%B8%98%E0%B8%B4%E0%B8%87%E0%B9%81%E0%B8%AE%E0%B8%9E%E0%B9%80%E0%B8%9E%E0%B9%88%E0%B8%99&amp;action=edit&amp;redlink=1\" title=\"กู๊ดธิงแฮพเพ่น (ไม่มีหน้า)\">กู๊ดธิงแฮพเพ่น</a></li>\n",
      "--------------------------------------------------------------------\n"
     ]
    }
   ],
   "source": [
    "# เพิ่มเติม ควรอ่าน!!!\n",
    "# จริงๆแล้ว ดูเหมือนว่า <li> จะอยู่ภายใต้ <ul> \n",
    "# ทำไมเราถึงไม่ for loop เพื่อวนเอาค่าใน li ออกมาหละ ทำไมต้อง find_all('li') ด้วย\n",
    "\n",
    "new_comp = soup.find('dt').find_next('ul')\n",
    "print(\"Total length in list = \"+str(len(new_comp))+\"\\n\")\n",
    "\n",
    "# จากข้อก่อนหน้าถ้าเราใช้ find_all('li') จะได้ข้อมูลมาทั้งหมด 6 ตัวตามรายชื่อบริษัทที่แสดงในเว็บ\n",
    "# แต่ถ้าเราใช้ for loop ดันมีข้อมูลทั้งหมด 11 ตัว นั่นเป็นเพราะว่ามันติดข้อมูล space ว่างๆออกมาด้วย (NavigableString)\n",
    "# ซึ่งสามารถเกิดขึ้นได้ตอนเขียนเว็บ\n",
    "# ดังนั้นต้องระวัง เรื่องนี้ให้ดีนะครับ !!!\n",
    "\n",
    "for k in new_comp:\n",
    "    print(k)\n",
    "    print(\"--------------------------------------------------------------------\")"
   ]
  },
  {
   "cell_type": "code",
   "execution_count": 12,
   "metadata": {},
   "outputs": [
    {
     "name": "stdout",
     "output_type": "stream",
     "text": [
      "จอกว้าง ฟิล์ม\n",
      "นาดาวบางกอก\n",
      "งานดีทวีสุข\n",
      "เสียงดีทวีสุข\n",
      "สวัสดีทวีสุข\n",
      "กู๊ดธิงแฮพเพ่น\n"
     ]
    }
   ],
   "source": [
    "# วิธีแก้อีกแบบนึงคือใช้ try except แต่เอาง่ายๆก็คือกลับไปใช้ find_next() และ find_all()\n",
    "\n",
    "for k in new_comp:\n",
    "    try:\n",
    "        print(k.a.text)\n",
    "    except: \n",
    "        pass"
   ]
  },
  {
   "cell_type": "code",
   "execution_count": 13,
   "metadata": {},
   "outputs": [
    {
     "name": "stdout",
     "output_type": "stream",
     "text": [
      "ภาพดีทวีสุข\n",
      "สนุกดีทวีสุข\n",
      "เดอะ ซีเคร็ต ฟาร์ม\n"
     ]
    }
   ],
   "source": [
    "# ----- TO DO 1.2 -----\n",
    "# ลองดึงบริษัทในเครือ (อดีต) มาแสดงผลให้หน่อย\n",
    "# ง่ายจะตาย :)\n",
    "\n",
    "old_comp_list = soup.find_all('dt')[1].find_next('ul').find_all('li')\n",
    "for o in old_comp_list:\n",
    "    print(o.a.text)"
   ]
  },
  {
   "cell_type": "markdown",
   "metadata": {},
   "source": [
    "ต้องได้คำตอบแบบนี้ถึงจะถูก \n",
    "\n",
    "<img src=\"source/TODO1-2.png\" width=150 align=left>"
   ]
  },
  {
   "cell_type": "markdown",
   "metadata": {},
   "source": [
    "## Social media - GDH\n",
    "\n",
    "<img src=\"source/social_media.png\" width=200 align=left>"
   ]
  },
  {
   "cell_type": "markdown",
   "metadata": {},
   "source": [
    "ในขั้นตอนนี้เราจะลองดึงข้อมูล social media จากเพจ GDH ใน wikipedia"
   ]
  },
  {
   "cell_type": "code",
   "execution_count": 18,
   "metadata": {},
   "outputs": [
    {
     "name": "stdout",
     "output_type": "stream",
     "text": [
      "[<span class=\"toctext\">แหล่งข้อมูลอื่น</span>, <span class=\"mw-headline\" id=\"แหล่งข้อมูลอื่น\">แหล่งข้อมูลอื่น</span>]\n"
     ]
    }
   ],
   "source": [
    "# ----- TO DO 1.3 -----\n",
    "# จงหา link ของ social media [facebook, twitter, instagram, tv.line] มาแสดงผล\n",
    "# มี code มาให้แล้ว ช่วยเติมสิ่งที่ขาดหายไปหน่อย\n",
    "# Hint : หาจากคำว่า \"แหล่งข้อมูลอื่น\"\n",
    "\n",
    "social_media = soup.find_all('span', string='แหล่งข้อมูลอื่น')\n",
    "print(social_media)"
   ]
  },
  {
   "cell_type": "code",
   "execution_count": 19,
   "metadata": {},
   "outputs": [
    {
     "name": "stdout",
     "output_type": "stream",
     "text": [
      "<span class=\"mw-headline\" id=\"แหล่งข้อมูลอื่น\">แหล่งข้อมูลอื่น</span>\n"
     ]
    }
   ],
   "source": [
    "# เนื่องจากเรา find_all (เพราะว่าแหล่งข้อมูลอื่นปรากฏอยู่หลายที่ในเว็บไซต์ ทำให้เราต้องเลือกว่าจะใช้อันไหน)\n",
    "# เติม index ให้หน่อยว่า 0 หรือ 1 หรือ 2 หรือ 3\n",
    "\n",
    "sm_ul = social_media[1]\n",
    "print(sm_ul)"
   ]
  },
  {
   "cell_type": "code",
   "execution_count": 20,
   "metadata": {},
   "outputs": [
    {
     "name": "stdout",
     "output_type": "stream",
     "text": [
      "https://www.facebook.com/GDH559\n",
      "https://twitter.com/GDH559\n",
      "http://www.instagram.com/GDH559\n",
      "https://tv.line.me/gdh559\n"
     ]
    }
   ],
   "source": [
    "'''\n",
    "<h2>\n",
    "    <span>แหล่งข้อมูลอื่น</span>\n",
    "</h2>\n",
    "<ul>\n",
    "    <li>....เฟสบุ๊ก</li>\n",
    "    <li>....ทวิตเตอร์</li>\n",
    "    <li>....อินสตาแกรม</li>\n",
    "    <li>....line tv</li>\n",
    "</ul>\n",
    "'''\n",
    "\n",
    "# หาก inspect ดูจะพบว่าหากเราค้นหาด้วย <span> เราจะอยู่ภายใต้ <h2> \n",
    "# ดังนั้นหากต้องการไปยัง <ul> เราควรที่จะต้องถอยกลับมาที่ <h2> ก่อนแล้วถึงค่อยไปหา <ul>\n",
    "# เราสามารถถอยกลับมาได้โดยใช้คำสั่ง .parent เพื่อหลับไปยัง <h2> จากนั้นใช้ find_next_sibling() เพื่อไปยัง tab ถัดไป\n",
    "\n",
    "for li in sm_ul.parent.find_next_sibling():\n",
    "    try:\n",
    "        print(li.a['href'])\n",
    "    except:\n",
    "        continue"
   ]
  },
  {
   "cell_type": "markdown",
   "metadata": {
    "colab_type": "text",
    "id": "EKwaU0pOw7CI"
   },
   "source": [
    "## นักแสดงนาดาวบางกอก\n",
    "\n",
    "ได้เวลาทดสอบความสามารถกันแล้ว! ลองเขียนโค้ดเพื่อดึงรายชื่อนักแสดงในสังกัดนาดาวบางกอก จากวิกิพีเดียกันดู\n",
    "\n",
    "<img src=\"source/nadao_artists.png\" width=\"150\" align=\"left\">"
   ]
  },
  {
   "cell_type": "code",
   "execution_count": 21,
   "metadata": {},
   "outputs": [],
   "source": [
    "# เปลี่ยนหน้าเว็บที่เราจะ scrape\n",
    "\n",
    "page2 = 'นาดาวบางกอก'\n",
    "url2 = 'http://th.wikipedia.org/wiki/' + urllib.parse.quote(page2)\n",
    "html2 = urllib.request.urlopen(url2).read()\n",
    "soup2 = BeautifulSoup(html2, 'html.parser')"
   ]
  },
  {
   "cell_type": "code",
   "execution_count": 22,
   "metadata": {
    "colab": {
     "autoexec": {
      "startup": false,
      "wait_interval": 0
     }
    },
    "colab_type": "code",
    "id": "n83-_rW2w7CJ"
   },
   "outputs": [
    {
     "name": "stdout",
     "output_type": "stream",
     "text": [
      "ซันนี่ สุวรรณเมธานนท์\n",
      "ฉันทวิชช์ ธนะเสวี\n",
      "ศิรชัช เจียรถาวร\n",
      "กันต์ ชุณหวัตร\n",
      "ธนภพ ลีรัตนขจร\n",
      "โอบนิธิ วิวรรธนวรางค์\n",
      "ธิติ มหาโยธารักษ์\n",
      "วงศ์รวี นทีธร\n",
      "กฤษณภูมิ พิบูลสงคราม\n",
      "ชลธร คงยิ่งยง\n",
      "ศนันธฉัตร ธนพัฒน์พิศาล\n",
      "เขมิศรา พลเดช\n",
      "ณิชาภัทร ฉัตรชัยพลรัตน์\n",
      "นรีกุล เกตุประภากร\n",
      "กัญญาวีร์ สองเมือง\n",
      "ภาวดี คุ้มโชคไพศาล\n",
      "ชญานิษฐ์ ชาญสง่าเวช\n",
      "นฤภรกมล ฉายแสง\n",
      "อทิตยา เครก\n",
      "เสฎฐวุฒิ อนุสิทธิ์\n",
      "ณภัทร โชคจินดาชัย\n",
      "อวัช รัตนปิณฑะ\n",
      "ต้นหน ตันติเวชกุล\n",
      "สาริษฐ์ ตรัยเลิศวิเชียร\n",
      "ณัชพัณณ์ ปรมะเจริญโรจน์\n",
      "ธีธัช รัตนศรีทัย\n",
      "อิงครัต ดำรงค์ศักดิ์กุล\n",
      "จิรายุส ขาวใบไม้\n",
      "กณิศ วิเชียรวนิชกุล\n",
      "แดน พฤกษ์พยุง\n",
      "ปณชัย ศรีอริยะรุ่งเรือง\n",
      "กานดิศ วรรณอรุณ\n",
      "พุฒิพงศ์ อัสสรัตนกุล\n",
      "กฤษฏ์ อำนวยเดชกร\n",
      "พลวิชญ์ เกตุประภากร\n",
      "พาริส อินทรโกมาลย์สุต\n",
      "เจษฎาวัฒน์ สุวรรณวนิชกิจ\n",
      "ศวรรยา ไพศาลพยัคฆ์\n"
     ]
    }
   ],
   "source": [
    "# ----- TO DO 2 -----\n",
    "# ดึงรายชื่อนักแสดงนาดาวบางกอกมาแสดงผล\n",
    "\n",
    "artists_list = soup2.find('span', string='นักแสดงในสังกัด').parent.find_next('div').find('ul')\n",
    "\n",
    "for li in artists_list('li'):\n",
    "    print(li.a.text)"
   ]
  },
  {
   "cell_type": "markdown",
   "metadata": {},
   "source": [
    "# Section 3 : ดึงข้อมูลจากตาราง"
   ]
  },
  {
   "cell_type": "markdown",
   "metadata": {},
   "source": [
    "### ผลงานละครโทรทัศน์ของ GDH\n",
    "\n",
    "ในแบบฝึกหัดต่อไป เราจะมาทำการดึงข้อมูลละครโทรทัศน์ของ GDH จากหน้าวิกิพีเดียกัน ว่าหนังแต่ละเรื่องออกอากาศเมื่อไหร่ ออกที่ช่องไหนและบริษัทที่ร่วมผลิตคือบริษัทใด\n",
    "\n",
    "<img src=\"source/drama_program.png\" width=\"600\" align=\"left\">"
   ]
  },
  {
   "cell_type": "code",
   "execution_count": 23,
   "metadata": {},
   "outputs": [
    {
     "name": "stdout",
     "output_type": "stream",
     "text": [
      "[<span class=\"toctext\">ละครโทรทัศน์</span>, <span class=\"mw-headline\" id=\"ละครโทรทัศน์\">ละครโทรทัศน์</span>]\n"
     ]
    }
   ],
   "source": [
    "drama_tag = soup.find_all('span', string='ละครโทรทัศน์')\n",
    "print(drama_tag)"
   ]
  },
  {
   "cell_type": "markdown",
   "metadata": {},
   "source": [
    "\n",
    "<img src=\"source/span_drama.png\" width=\"600\" align=\"left\">"
   ]
  },
  {
   "cell_type": "code",
   "execution_count": 53,
   "metadata": {},
   "outputs": [
    {
     "name": "stdout",
     "output_type": "stream",
     "text": [
      "<table class=\"wikitable\">\n",
      "<tbody><tr>\n",
      "<th>ปี พ.ศ.</th>\n",
      "<th>เรื่อง</th>\n",
      "<th>ออกอากาศ</th>\n",
      "<th>สถานีโทรทัศน์</th>\n",
      "<th>บริษัทที่ร่วมผลิต\n",
      "</th></tr>\n",
      "<tr>\n",
      "<td rowspan=\"3\">2559</td>\n",
      "<td><a class=\"mw-redirect\" href=\"/wiki/%E0%B9%84%E0%B8%94%E0%B8%AD%E0%B8%B2%E0%B8%A3%E0%B8%B5%E0%B9%88%E0%B8%95%E0%B8%B8%E0%B9%8A%E0%B8%94%E0%B8%8B%E0%B8%B5%E0%B9%88%E0%B8%AA%E0%B9%8C_%E0%B9%80%E0%B8%94%E0%B8%AD%E0%B8%B0%E0%B8%8B%E0%B8%B5%E0%B8%A3%E0%B8%B5%E0%B8%AA%E0%B9%8C\" title=\"ไดอารี่ตุ๊ดซี่ส์ เดอะซีรีส์\">ไดอารี่ตุ๊ดซี่ส์ เดอะซีรีส์</a></td>\n",
      "<td>23 มกราคม พ.ศ. 2559 - 16 เมษายน พ.ศ. 2559</td>\n",
      "<td><a href=\"/wiki/%E0%B8%88%E0%B8%B5%E0%B9%80%E0%B8%AD%E0%B9%87%E0%B8%A1%E0%B9%80%E0%B8%AD%E0%B9%87%E0%B8%A1_25\" title=\"จีเอ็มเอ็ม 25\">จีเอ็มเอ็ม 25</a> <a href=\"/wiki/%E0%B8%8A%E0%B9%88%E0%B8%AD%E0%B8%87%E0%B8%A7%E0%B8%B1%E0%B8%99\" title=\"ช่องวัน\">ช่องวัน</a>\n",
      "</td>\n",
      "<td><a class=\"new\" href=\"/w/index.php?title=%E0%B8%A0%E0%B8%B2%E0%B8%9E%E0%B8%94%E0%B8%B5%E0%B8%97%E0%B8%A7%E0%B8%B5%E0%B8%AA%E0%B8%B8%E0%B8%82&amp;action=edit&amp;redlink=1\" title=\"ภาพดีทวีสุข (ไม่มีหน้า)\">ภาพดีทวีสุข</a>\n",
      "</td></tr>\n",
      "<tr>\n",
      "<td><a class=\"new\" href=\"/w/index.php?title=%E0%B9%81%E0%B8%81%E0%B9%8A%E0%B8%AA%E0%B9%82%E0%B8%8B%E0%B8%AE%E0%B8%B1%E0%B8%81..%E0%B8%A3%E0%B8%B1%E0%B8%81%E0%B9%80%E0%B8%95%E0%B9%87%E0%B8%A1%E0%B8%96%E0%B8%B1%E0%B8%87&amp;action=edit&amp;redlink=1\" title=\"แก๊สโซฮัก..รักเต็มถัง (ไม่มีหน้า)\">แก๊สโซฮัก..รักเต็มถัง</a></td>\n",
      "<td>6 กุมภาพันธ์ พ.ศ. 2559 - 19 มีนาคม พ.ศ. 2559<br/>6 สิงหาคม พ.ศ. 2559 - 27 สิงหาคม พ.ศ. 2559\n",
      "</td>\n",
      "<td><a href=\"/wiki/%E0%B9%84%E0%B8%A5%E0%B8%99%E0%B9%8C%E0%B8%97%E0%B8%B5%E0%B8%A7%E0%B8%B5\" title=\"ไลน์ทีวี\">ไลน์ทีวี</a><br/><a href=\"/wiki/%E0%B8%88%E0%B8%B5%E0%B9%80%E0%B8%AD%E0%B9%87%E0%B8%A1%E0%B9%80%E0%B8%AD%E0%B9%87%E0%B8%A1_25\" title=\"จีเอ็มเอ็ม 25\">จีเอ็มเอ็ม 25</a></td>\n",
      "<td><a class=\"new\" href=\"/w/index.php?title=%E0%B8%A0%E0%B8%B2%E0%B8%9E%E0%B8%94%E0%B8%B5%E0%B8%97%E0%B8%A7%E0%B8%B5%E0%B8%AA%E0%B8%B8%E0%B8%82&amp;action=edit&amp;redlink=1\" title=\"ภาพดีทวีสุข (ไม่มีหน้า)\">ภาพดีทวีสุข</a>\n",
      "</td></tr>\n",
      "<tr>\n",
      "<td><a href=\"/wiki/I_See_You_%E0%B8%9E%E0%B8%A2%E0%B8%B2%E0%B8%9A%E0%B8%B2%E0%B8%A5%E0%B8%9E%E0%B8%B4%E0%B9%80%E0%B8%A8%E0%B8%A9..%E0%B9%80%E0%B8%84%E0%B8%AA%E0%B8%9E%E0%B8%B4%E0%B8%A8%E0%B8%A7%E0%B8%87\" title=\"I See You พยาบาลพิเศษ..เคสพิศวง\">I See You พยาบาลพิเศษ..เคสพิศวง</a></td>\n",
      "<td>7 พฤษภาคม พ.ศ. 2559 - 30 กรกฎาคม พ.ศ. 2559</td>\n",
      "<td><a href=\"/wiki/%E0%B8%88%E0%B8%B5%E0%B9%80%E0%B8%AD%E0%B9%87%E0%B8%A1%E0%B9%80%E0%B8%AD%E0%B9%87%E0%B8%A1_25\" title=\"จีเอ็มเอ็ม 25\">จีเอ็มเอ็ม 25</a></td>\n",
      "<td><a class=\"new\" href=\"/w/index.php?title=%E0%B8%A0%E0%B8%B2%E0%B8%9E%E0%B8%94%E0%B8%B5%E0%B8%97%E0%B8%A7%E0%B8%B5%E0%B8%AA%E0%B8%B8%E0%B8%82&amp;action=edit&amp;redlink=1\" title=\"ภาพดีทวีสุข (ไม่มีหน้า)\">ภาพดีทวีสุข</a><br/><a class=\"new\" href=\"/w/index.php?title=%E0%B8%A7%E0%B8%B1%E0%B8%99%E0%B9%80%E0%B8%94%E0%B8%AD%E0%B8%A3%E0%B9%8C%E0%B8%A3%E0%B8%B2%E0%B8%A1%E0%B8%B2&amp;action=edit&amp;redlink=1\" title=\"วันเดอร์รามา (ไม่มีหน้า)\">วันเดอร์รามา</a>\n",
      "</td></tr>\n",
      "<tr>\n",
      "<td rowspan=\"2\">2560</td>\n",
      "<td><a class=\"mw-redirect\" href=\"/wiki/%E0%B9%84%E0%B8%94%E0%B8%AD%E0%B8%B2%E0%B8%A3%E0%B8%B5%E0%B9%88%E0%B8%95%E0%B8%B8%E0%B9%8A%E0%B8%94%E0%B8%8B%E0%B8%B5%E0%B9%88%E0%B8%AA%E0%B9%8C_%E0%B9%80%E0%B8%94%E0%B8%AD%E0%B8%B0%E0%B8%8B%E0%B8%B5%E0%B8%A3%E0%B8%B5%E0%B8%AA%E0%B9%8C\" title=\"ไดอารี่ตุ๊ดซี่ส์ เดอะซีรีส์\">ไดอารี่ตุ๊ดซี่ส์ เดอะซีรีส์ 2</a></td>\n",
      "<td>11 กุมภาพันธ์ พ.ศ. 2560 - 29 เมษายน พ.ศ. 2560\n",
      "</td>\n",
      "<td><a href=\"/wiki/%E0%B8%88%E0%B8%B5%E0%B9%80%E0%B8%AD%E0%B9%87%E0%B8%A1%E0%B9%80%E0%B8%AD%E0%B9%87%E0%B8%A1_25\" title=\"จีเอ็มเอ็ม 25\">จีเอ็มเอ็ม 25</a>\n",
      "</td>\n",
      "<td><a class=\"mw-redirect\" href=\"/wiki/%E0%B8%88%E0%B8%AD%E0%B8%81%E0%B8%A7%E0%B9%89%E0%B8%B2%E0%B8%87%E0%B8%9F%E0%B8%B4%E0%B8%A5%E0%B9%8C%E0%B8%A1\" title=\"จอกว้างฟิล์ม\">จอกว้างฟิล์ม</a>\n",
      "</td></tr>\n",
      "<tr>\n",
      "<td><a href=\"/wiki/%E0%B9%82%E0%B8%9B%E0%B8%A3%E0%B9%80%E0%B8%88%E0%B8%81%E0%B8%95%E0%B9%8C_%E0%B9%80%E0%B8%AD%E0%B8%AA_%E0%B9%80%E0%B8%94%E0%B8%AD%E0%B8%B0%E0%B8%8B%E0%B8%B5%E0%B8%A3%E0%B8%B5%E0%B8%AA%E0%B9%8C\" title=\"โปรเจกต์ เอส เดอะซีรีส์\">โปรเจกต์ เอส เดอะซีรีส์</a></td>\n",
      "<td>20 พฤษภาคม พ.ศ. 2560 - 27 มกราคม พ.ศ. 2561</td>\n",
      "<td><a href=\"/wiki/%E0%B8%88%E0%B8%B5%E0%B9%80%E0%B8%AD%E0%B9%87%E0%B8%A1%E0%B9%80%E0%B8%AD%E0%B9%87%E0%B8%A1_25\" title=\"จีเอ็มเอ็ม 25\">จีเอ็มเอ็ม 25</a>\n",
      "</td>\n",
      "<td><a href=\"/wiki/%E0%B8%99%E0%B8%B2%E0%B8%94%E0%B8%B2%E0%B8%A7%E0%B8%9A%E0%B8%B2%E0%B8%87%E0%B8%81%E0%B8%AD%E0%B8%81\" title=\"นาดาวบางกอก\">นาดาวบางกอก</a><br/><a class=\"mw-redirect\" href=\"/wiki/%E0%B8%88%E0%B8%AD%E0%B8%81%E0%B8%A7%E0%B9%89%E0%B8%B2%E0%B8%87%E0%B8%9F%E0%B8%B4%E0%B8%A5%E0%B9%8C%E0%B8%A1\" title=\"จอกว้างฟิล์ม\">จอกว้างฟิล์ม</a><br/><a class=\"new\" href=\"/w/index.php?title=%E0%B8%AB%E0%B8%B1%E0%B8%9A%E0%B9%82%E0%B8%AB%E0%B9%89%E0%B8%AB%E0%B8%B4%E0%B9%89%E0%B8%99_%E0%B8%9A%E0%B8%B2%E0%B8%87%E0%B8%81%E0%B8%AD%E0%B8%81&amp;action=edit&amp;redlink=1\" title=\"หับโห้หิ้น บางกอก (ไม่มีหน้า)\">หับโห้หิ้น บางกอก</a>\n",
      "</td></tr>\n",
      "<tr>\n",
      "<td>2562\n",
      "</td>\n",
      "<td><a class=\"new\" href=\"/w/index.php?title=One_Year_365_%E0%B8%A7%E0%B8%B1%E0%B8%99_%E0%B8%9A%E0%B9%89%E0%B8%B2%E0%B8%99%E0%B8%89%E0%B8%B1%E0%B8%99_%E0%B8%9A%E0%B9%89%E0%B8%B2%E0%B8%99%E0%B9%80%E0%B8%98%E0%B8%AD&amp;action=edit&amp;redlink=1\" title=\"One Year 365 วัน บ้านฉัน บ้านเธอ (ไม่มีหน้า)\">One Year 365 วัน บ้านฉัน บ้านเธอ</a></td>\n",
      "<td>เริ่ม พฤศจิกายน พ.ศ. 2562</td>\n",
      "<td><a href=\"/wiki/%E0%B9%84%E0%B8%A5%E0%B8%99%E0%B9%8C%E0%B8%97%E0%B8%B5%E0%B8%A7%E0%B8%B5\" title=\"ไลน์ทีวี\">ไลน์ทีวี</a></td>\n",
      "<td>ไลน์ คอร์ปอเรชัน<br/><a class=\"mw-redirect\" href=\"/wiki/BNK48\" title=\"BNK48\">บีเอ็นเคโฟร์ตีเอต ออฟฟิศ</a>\n",
      "</td></tr>\n",
      "<tr>\n",
      "<td>2563\n",
      "</td>\n",
      "<td><a class=\"new\" href=\"/w/index.php?title=%E0%B8%89%E0%B8%A5%E0%B8%B2%E0%B8%94%E0%B9%80%E0%B8%81%E0%B8%A1%E0%B8%AA%E0%B9%8C%E0%B9%82%E0%B8%81%E0%B8%87_%E0%B9%80%E0%B8%94%E0%B8%AD%E0%B8%B0%E0%B8%8B%E0%B8%B5%E0%B8%A3%E0%B8%B5%E0%B8%AA%E0%B9%8C&amp;action=edit&amp;redlink=1\" title=\"ฉลาดเกมส์โกง เดอะซีรีส์ (ไม่มีหน้า)\">ฉลาดเกมส์โกง เดอะซีรีส์</a>\n",
      "</td>\n",
      "<td>เริ่ม กรกฎาคม พ.ศ. 2563\n",
      "</td>\n",
      "<td><a href=\"/wiki/%E0%B8%8A%E0%B9%88%E0%B8%AD%E0%B8%87%E0%B8%A7%E0%B8%B1%E0%B8%99\" title=\"ช่องวัน\">ช่องวัน</a>\n",
      "</td>\n",
      "<td><a href=\"/wiki/%E0%B8%99%E0%B8%B2%E0%B8%94%E0%B8%B2%E0%B8%A7%E0%B8%9A%E0%B8%B2%E0%B8%87%E0%B8%81%E0%B8%AD%E0%B8%81\" title=\"นาดาวบางกอก\">นาดาวบางกอก</a><br/><a class=\"mw-redirect\" href=\"/wiki/%E0%B8%88%E0%B8%AD%E0%B8%81%E0%B8%A7%E0%B9%89%E0%B8%B2%E0%B8%87%E0%B8%9F%E0%B8%B4%E0%B8%A5%E0%B9%8C%E0%B8%A1\" title=\"จอกว้างฟิล์ม\">จอกว้างฟิล์ม</a>\n",
      "</td></tr>\n",
      "</tbody></table>\n"
     ]
    }
   ],
   "source": [
    "# เลือกข้อมูล index ที่ 1 (อันหลัง) เพราะตรงกับ tag ที่ใกล้กับตาราง ไม่เชื่อลอง inspect ดูสิ\n",
    "\n",
    "table = soup.find_all('span', string='ละครโทรทัศน์')[1].find_next('table')\n",
    "print(table)"
   ]
  },
  {
   "cell_type": "markdown",
   "metadata": {},
   "source": [
    "ปัญหาอย่างหนึ่งของตารางนี้ คือการใช้คำสั่ง `rowspan` ทำให้แต่ละแถว `<tr>` ในตาราง อาจะมีจำนวนคอลัมน์ `<td>` ไม่เท่ากัน ส่งผลให้ชื่อหนัง อาจจะอยู่ในคอลัมน์ที่ 0 หรือ 1 ก็ได้ ขึ้นอยู่กับว่าแถวนั้นเป็นแถวแรกของปีนั้นๆหรือไม่ \n",
    "\n",
    "<img src=\"source/rowspan.png\" width=200 >\n",
    "\n",
    "เพื่อความง่าย เราจะไม่สนใจปีที่หนังเข้าฉายกันไปก่อน และลบ `<td>` ทุกอันที่มีการระบุค่า `rowspan` ด้วยฟังก์ชัน `extract()` เนื่องจากเดี๋ยวเราจะกลับมาใช้ตารางเต็มๆกันอีกครั้ง เราจึงต้องสร้างอีก copy `table` ไว้ก่อน \n"
   ]
  },
  {
   "cell_type": "code",
   "execution_count": 54,
   "metadata": {},
   "outputs": [
    {
     "name": "stdout",
     "output_type": "stream",
     "text": [
      "<table class=\"wikitable\">\n",
      "<tbody><tr>\n",
      "<th>ปี พ.ศ.</th>\n",
      "<th>เรื่อง</th>\n",
      "<th>ออกอากาศ</th>\n",
      "<th>สถานีโทรทัศน์</th>\n",
      "<th>บริษัทที่ร่วมผลิต\n",
      "</th></tr>\n",
      "<tr>\n",
      "\n",
      "<td><a class=\"mw-redirect\" href=\"/wiki/ไดอารี่ตุ๊ดซี่ส์_เดอะซีรีส์\" title=\"ไดอารี่ตุ๊ดซี่ส์ เดอะซีรีส์\">ไดอารี่ตุ๊ดซี่ส์ เดอะซีรีส์</a></td>\n",
      "<td>23 มกราคม พ.ศ. 2559 - 16 เมษายน พ.ศ. 2559</td>\n",
      "<td><a href=\"/wiki/จีเอ็มเอ็ม_25\" title=\"จีเอ็มเอ็ม 25\">จีเอ็มเอ็ม 25</a> <a href=\"/wiki/ช่องวัน\" title=\"ช่องวัน\">ช่องวัน</a>\n",
      "</td>\n",
      "<td><a class=\"new\" href=\"/w/index.php?title=ภาพดีทวีสุข&amp;action=edit&amp;redlink=1\" title=\"ภาพดีทวีสุข (ไม่มีหน้า)\">ภาพดีทวีสุข</a>\n",
      "</td></tr>\n",
      "<tr>\n",
      "<td><a class=\"new\" href=\"/w/index.php?title=แก๊สโซฮัก..รักเต็มถัง&amp;action=edit&amp;redlink=1\" title=\"แก๊สโซฮัก..รักเต็มถัง (ไม่มีหน้า)\">แก๊สโซฮัก..รักเต็มถัง</a></td>\n",
      "<td>6 กุมภาพันธ์ พ.ศ. 2559 - 19 มีนาคม พ.ศ. 2559<br/>6 สิงหาคม พ.ศ. 2559 - 27 สิงหาคม พ.ศ. 2559\n",
      "</td>\n",
      "<td><a href=\"/wiki/ไลน์ทีวี\" title=\"ไลน์ทีวี\">ไลน์ทีวี</a><br/><a href=\"/wiki/จีเอ็มเอ็ม_25\" title=\"จีเอ็มเอ็ม 25\">จีเอ็มเอ็ม 25</a></td>\n",
      "<td><a class=\"new\" href=\"/w/index.php?title=ภาพดีทวีสุข&amp;action=edit&amp;redlink=1\" title=\"ภาพดีทวีสุข (ไม่มีหน้า)\">ภาพดีทวีสุข</a>\n",
      "</td></tr>\n",
      "<tr>\n",
      "<td><a href=\"/wiki/I_See_You_พยาบาลพิเศษ..เคสพิศวง\" title=\"I See You พยาบาลพิเศษ..เคสพิศวง\">I See You พยาบาลพิเศษ..เคสพิศวง</a></td>\n",
      "<td>7 พฤษภาคม พ.ศ. 2559 - 30 กรกฎาคม พ.ศ. 2559</td>\n",
      "<td><a href=\"/wiki/จีเอ็มเอ็ม_25\" title=\"จีเอ็มเอ็ม 25\">จีเอ็มเอ็ม 25</a></td>\n",
      "<td><a class=\"new\" href=\"/w/index.php?title=ภาพดีทวีสุข&amp;action=edit&amp;redlink=1\" title=\"ภาพดีทวีสุข (ไม่มีหน้า)\">ภาพดีทวีสุข</a><br/><a class=\"new\" href=\"/w/index.php?title=วันเดอร์รามา&amp;action=edit&amp;redlink=1\" title=\"วันเดอร์รามา (ไม่มีหน้า)\">วันเดอร์รามา</a>\n",
      "</td></tr>\n",
      "<tr>\n",
      "\n",
      "<td><a class=\"mw-redirect\" href=\"/wiki/ไดอารี่ตุ๊ดซี่ส์_เดอะซีรีส์\" title=\"ไดอารี่ตุ๊ดซี่ส์ เดอะซีรีส์\">ไดอารี่ตุ๊ดซี่ส์ เดอะซีรีส์ 2</a></td>\n",
      "<td>11 กุมภาพันธ์ พ.ศ. 2560 - 29 เมษายน พ.ศ. 2560\n",
      "</td>\n",
      "<td><a href=\"/wiki/จีเอ็มเอ็ม_25\" title=\"จีเอ็มเอ็ม 25\">จีเอ็มเอ็ม 25</a>\n",
      "</td>\n",
      "<td><a class=\"mw-redirect\" href=\"/wiki/จอกว้างฟิล์ม\" title=\"จอกว้างฟิล์ม\">จอกว้างฟิล์ม</a>\n",
      "</td></tr>\n",
      "<tr>\n",
      "<td><a href=\"/wiki/โปรเจกต์_เอส_เดอะซีรีส์\" title=\"โปรเจกต์ เอส เดอะซีรีส์\">โปรเจกต์ เอส เดอะซีรีส์</a></td>\n",
      "<td>20 พฤษภาคม พ.ศ. 2560 - 27 มกราคม พ.ศ. 2561</td>\n",
      "<td><a href=\"/wiki/จีเอ็มเอ็ม_25\" title=\"จีเอ็มเอ็ม 25\">จีเอ็มเอ็ม 25</a>\n",
      "</td>\n",
      "<td><a href=\"/wiki/นาดาวบางกอก\" title=\"นาดาวบางกอก\">นาดาวบางกอก</a><br/><a class=\"mw-redirect\" href=\"/wiki/จอกว้างฟิล์ม\" title=\"จอกว้างฟิล์ม\">จอกว้างฟิล์ม</a><br/><a class=\"new\" href=\"/w/index.php?title=หับโห้หิ้น_บางกอก&amp;action=edit&amp;redlink=1\" title=\"หับโห้หิ้น บางกอก (ไม่มีหน้า)\">หับโห้หิ้น บางกอก</a>\n",
      "</td></tr>\n",
      "<tr>\n",
      "<td>2562\n",
      "</td>\n",
      "<td><a class=\"new\" href=\"/w/index.php?title=One_Year_365_วัน_บ้านฉัน_บ้านเธอ&amp;action=edit&amp;redlink=1\" title=\"One Year 365 วัน บ้านฉัน บ้านเธอ (ไม่มีหน้า)\">One Year 365 วัน บ้านฉัน บ้านเธอ</a></td>\n",
      "<td>เริ่ม พฤศจิกายน พ.ศ. 2562</td>\n",
      "<td><a href=\"/wiki/ไลน์ทีวี\" title=\"ไลน์ทีวี\">ไลน์ทีวี</a></td>\n",
      "<td>ไลน์ คอร์ปอเรชัน<br/><a class=\"mw-redirect\" href=\"/wiki/BNK48\" title=\"BNK48\">บีเอ็นเคโฟร์ตีเอต ออฟฟิศ</a>\n",
      "</td></tr>\n",
      "<tr>\n",
      "<td>2563\n",
      "</td>\n",
      "<td><a class=\"new\" href=\"/w/index.php?title=ฉลาดเกมส์โกง_เดอะซีรีส์&amp;action=edit&amp;redlink=1\" title=\"ฉลาดเกมส์โกง เดอะซีรีส์ (ไม่มีหน้า)\">ฉลาดเกมส์โกง เดอะซีรีส์</a>\n",
      "</td>\n",
      "<td>เริ่ม กรกฎาคม พ.ศ. 2563\n",
      "</td>\n",
      "<td><a href=\"/wiki/ช่องวัน\" title=\"ช่องวัน\">ช่องวัน</a>\n",
      "</td>\n",
      "<td><a href=\"/wiki/นาดาวบางกอก\" title=\"นาดาวบางกอก\">นาดาวบางกอก</a><br/><a class=\"mw-redirect\" href=\"/wiki/จอกว้างฟิล์ม\" title=\"จอกว้างฟิล์ม\">จอกว้างฟิล์ม</a>\n",
      "</td></tr>\n",
      "</tbody></table>\n"
     ]
    }
   ],
   "source": [
    "simplified_table = copy.copy(table) # จะเกิดอะไรขึ้นถ้าเราใช้ `simplified_table = table` ? \n",
    "for td in simplified_table('td', {'rowspan': True}):\n",
    "    td.extract() # ลบ element จาก DOM tree\n",
    "\n",
    "print(urllib.parse.unquote(str(simplified_table)))"
   ]
  },
  {
   "cell_type": "markdown",
   "metadata": {},
   "source": [
    "จะเห็นได้ว่า ตอนนี้ทุกแถวมี `<td>` สามอัน เท่ากันหมดแล้ว (\"ปี พ.ศ.\" หายไปแล้ว) ทีนี้เราก็สามารถดึงข้อมูลออกมาได้ง่ายๆตามนี้"
   ]
  },
  {
   "cell_type": "code",
   "execution_count": 55,
   "metadata": {},
   "outputs": [
    {
     "name": "stdout",
     "output_type": "stream",
     "text": [
      "\"ไดอารี่ตุ๊ดซี่ส์ เดอะซีรีส์\", \"23 มกราคม พ.ศ. 2559 - 16 เมษายน พ.ศ. 2559\", \"จีเอ็มเอ็ม 25 ช่องวัน\", \"ภาพดีทวีสุข\"\n",
      "\"แก๊สโซฮัก..รักเต็มถัง\", \"6 กุมภาพันธ์ พ.ศ. 2559 - 19 มีนาคม พ.ศ. 25596 สิงหาคม พ.ศ. 2559 - 27 สิงหาคม พ.ศ. 2559\", \"ไลน์ทีวีจีเอ็มเอ็ม 25\", \"ภาพดีทวีสุข\"\n",
      "\"I See You พยาบาลพิเศษ..เคสพิศวง\", \"7 พฤษภาคม พ.ศ. 2559 - 30 กรกฎาคม พ.ศ. 2559\", \"จีเอ็มเอ็ม 25\", \"ภาพดีทวีสุขวันเดอร์รามา\"\n",
      "\"ไดอารี่ตุ๊ดซี่ส์ เดอะซีรีส์ 2\", \"11 กุมภาพันธ์ พ.ศ. 2560 - 29 เมษายน พ.ศ. 2560\", \"จีเอ็มเอ็ม 25\", \"จอกว้างฟิล์ม\"\n",
      "\"โปรเจกต์ เอส เดอะซีรีส์\", \"20 พฤษภาคม พ.ศ. 2560 - 27 มกราคม พ.ศ. 2561\", \"จีเอ็มเอ็ม 25\", \"นาดาวบางกอกจอกว้างฟิล์มหับโห้หิ้น บางกอก\"\n",
      "\"2562\", \"One Year 365 วัน บ้านฉัน บ้านเธอ\", \"เริ่ม พฤศจิกายน พ.ศ. 2562\", \"ไลน์ทีวี\"\n",
      "\"2563\", \"ฉลาดเกมส์โกง เดอะซีรีส์\", \"เริ่ม กรกฎาคม พ.ศ. 2563\", \"ช่องวัน\"\n"
     ]
    }
   ],
   "source": [
    "for tr in simplified_table('tr'):\n",
    "    cells = tr('td')\n",
    "    if len(cells):  # ทำไมต้องมีบรรทัดนี้ ?\n",
    "        # ใช้ .strip() เพื่อตัด space ว่างและ \\n ทิ้ง\n",
    "        print('\"%s\", \"%s\", \"%s\", \"%s\"' % (cells[0].text.strip(), cells[1].text.strip(), cells[2].text.strip(), cells[3].text.strip()))"
   ]
  },
  {
   "cell_type": "markdown",
   "metadata": {},
   "source": [
    "สำหรับคนที่อยากรู้ว่า ถ้าจะเอาข้อมูลปีที่เข้าฉายมาใช้ด้วย เราจะทำได้อย่างไร ลองพยายามทำความเข้าใจโค้ดข้างล่างนี้ดู"
   ]
  },
  {
   "cell_type": "code",
   "execution_count": 56,
   "metadata": {},
   "outputs": [
    {
     "name": "stdout",
     "output_type": "stream",
     "text": [
      "{'year': '2559', 'name': 'ไดอารี่ตุ๊ดซี่ส์ เดอะซีรีส์', 'on air': '23 มกราคม พ.ศ. 2559 - 16 เมษายน พ.ศ. 2559 จีเอ็มเอ็ม 25 ช่องวัน\\n', 'co-company': 'ภาพดีทวีสุข\\n', 'url': '/wiki/ไดอารี่ตุ๊ดซี่ส์_เดอะซีรีส์'}\n",
      "\n",
      "\n",
      "{'year': '2559', 'name': 'แก๊สโซฮัก..รักเต็มถัง', 'on air': '6 กุมภาพันธ์ พ.ศ. 2559 - 19 มีนาคม พ.ศ. 25596 สิงหาคม พ.ศ. 2559 - 27 สิงหาคม พ.ศ. 2559\\n ไลน์ทีวีจีเอ็มเอ็ม 25', 'co-company': 'ภาพดีทวีสุข\\n', 'url': '/w/index.php?title=แก๊สโซฮัก..รักเต็มถัง&action=edit&redlink=1'}\n",
      "\n",
      "\n",
      "{'year': '2559', 'name': 'I See You พยาบาลพิเศษ..เคสพิศวง', 'on air': '7 พฤษภาคม พ.ศ. 2559 - 30 กรกฎาคม พ.ศ. 2559 จีเอ็มเอ็ม 25', 'co-company': 'ภาพดีทวีสุขวันเดอร์รามา\\n', 'url': '/wiki/I_See_You_พยาบาลพิเศษ..เคสพิศวง'}\n",
      "\n",
      "\n",
      "{'year': '2560', 'name': 'ไดอารี่ตุ๊ดซี่ส์ เดอะซีรีส์ 2', 'on air': '11 กุมภาพันธ์ พ.ศ. 2560 - 29 เมษายน พ.ศ. 2560\\n จีเอ็มเอ็ม 25\\n', 'co-company': 'จอกว้างฟิล์ม\\n', 'url': '/wiki/ไดอารี่ตุ๊ดซี่ส์_เดอะซีรีส์'}\n",
      "\n",
      "\n",
      "{'year': '2560', 'name': 'โปรเจกต์ เอส เดอะซีรีส์', 'on air': '20 พฤษภาคม พ.ศ. 2560 - 27 มกราคม พ.ศ. 2561 จีเอ็มเอ็ม 25\\n', 'co-company': 'นาดาวบางกอกจอกว้างฟิล์มหับโห้หิ้น บางกอก\\n', 'url': '/wiki/โปรเจกต์_เอส_เดอะซีรีส์'}\n",
      "\n",
      "\n",
      "{'year': '2562\\n', 'name': 'One Year 365 วัน บ้านฉัน บ้านเธอ', 'on air': 'เริ่ม พฤศจิกายน พ.ศ. 2562 ไลน์ทีวี', 'co-company': 'ไลน์ คอร์ปอเรชันบีเอ็นเคโฟร์ตีเอต ออฟฟิศ\\n', 'url': '/w/index.php?title=One_Year_365_วัน_บ้านฉัน_บ้านเธอ&action=edit&redlink=1'}\n",
      "\n",
      "\n",
      "{'year': '2563\\n', 'name': 'ฉลาดเกมส์โกง เดอะซีรีส์', 'on air': 'เริ่ม กรกฎาคม พ.ศ. 2563\\n ช่องวัน\\n', 'co-company': 'นาดาวบางกอกจอกว้างฟิล์ม\\n', 'url': '/w/index.php?title=ฉลาดเกมส์โกง_เดอะซีรีส์&action=edit&redlink=1'}\n",
      "\n",
      "\n"
     ]
    }
   ],
   "source": [
    "# copy ข้อมูล table ไว้เพื่อที่จะได้ไม่ต้องเก็บใหม่ ในกรณีที่ข้อมูลถูกแก้ไขหรือเสียหายก็สามารถดึงข้อมูลจากต้นฉบับได้เลย\n",
    "dup_table = copy.copy(table)\n",
    "\n",
    "rows = dup_table('tr')\n",
    "header = rows[0]\n",
    "n_cols = len(header('th'))\n",
    "\n",
    "current_year = None\n",
    "movies = []\n",
    "\n",
    "# วน loop ทุกๆ row\n",
    "for tr in rows[1:]:\n",
    "    movie = {}\n",
    "    \n",
    "    # เลือกทุก column ในแถวนั้น จะได้ [ปี พ.ศ., เรื่อง, ออกอากาศ, สถานีโทรทัศน์, บริษัทท่ร่วมผลิต]\n",
    "    cells = tr('td')\n",
    "\n",
    "    # ถ้า column ในแถวนั้นมี attribute 'rowspan' ให้เก็บ text นั้นไว้ใน current_year\n",
    "    if cells[0].has_attr('rowspan'):\n",
    "        current_year = tr.td.text.strip() \n",
    "        # แล้วตัด ปี พ.ศ. ออกจากตาราง เหลือ [เรื่อง, ออกอากาศ, สถานีโทรทัศน์, บริษัทท่ร่วมผลิต] \n",
    "        cells = cells[1:]\n",
    "        \n",
    "    # ปี 2562 กับ 2563 ไม่ได้มี tag rowspan ทำให้ปีพ.ศ. ไม่ถูกตัดออกไป เราเลยต้องเก็บปีพ.ศ.ไว้\n",
    "    # จากนั้นจึงค่อยตัดทิ้ง [หากไม่เข้าใจลองเอาออกดูสิ]\n",
    "    if len(cells) == 5:\n",
    "        current_year = cells[0].text\n",
    "        cells = cells[1:]\n",
    "        \n",
    "    movie['year'] = current_year\n",
    "    movie['name'] = cells[0].text.strip()\n",
    "    movie['on air'] = '%s %s' % (cells[1].text, cells[2].text)\n",
    "    movie['co-company'] = cells[3].text\n",
    "    if cells[0].a is not None:\n",
    "        # ต้องแปลงจากภาษาไทยให้เป็น encode-string\n",
    "        movie['url'] = urllib.parse.unquote(cells[0].a['href'])\n",
    "    else:\n",
    "        movie['url'] = '-'\n",
    "    movies.append(movie)\n",
    "\n",
    "\n",
    "for m in movies:\n",
    "    print(m)\n",
    "    print(\"\\n\")\n"
   ]
  },
  {
   "cell_type": "markdown",
   "metadata": {},
   "source": [
    "ถึงตอนนี้ทุกคนอาจจะสงสัยว่า ทำไมเราต้องเขียนโค้ดให้มันวุ่นวายขนาดนี้ แค่ copy/paste แป๊ปเดียวก็เสร็จแล้ว\n",
    "\n",
    "ถูกต้อง! และ Data scientist ที่ดีก็ควรจะเลือกใช้วิธีที่ช่วยให้เราทำงานได้เร็วที่สุด \n",
    "\n",
    "แต่...ตัวอย่างข้างต้นนั้น เป็นเพียงตัวอย่างง่ายๆเท่านั้น ในตัวอย่างถัดไป เราจะมาดึงข้อมูลว่าหนังแต่ละเรื่องใครกำกับ ซึ่งข้อมูลนี้ไม่ได้ให้มาในตาราง แต่เราสามารถหาได้ในหน้าวิกิของหนังแต่ละเรื่อง "
   ]
  },
  {
   "cell_type": "code",
   "execution_count": 67,
   "metadata": {},
   "outputs": [
    {
     "name": "stdout",
     "output_type": "stream",
     "text": [
      "[{'year': '2559', 'name': 'ไดอารี่ตุ๊ดซี่ส์ เดอะซีรีส์', 'on air': '23 มกราคม พ.ศ. 2559 - 16 เมษายน พ.ศ. 2559 จีเอ็มเอ็ม 25 ช่องวัน\\n', 'co-company': 'ภาพดีทวีสุข\\n', 'url': '/wiki/%E0%B9%84%E0%B8%94%E0%B8%AD%E0%B8%B2%E0%B8%A3%E0%B8%B5%E0%B9%88%E0%B8%95%E0%B8%B8%E0%B9%8A%E0%B8%94%E0%B8%8B%E0%B8%B5%E0%B9%88%E0%B8%AA%E0%B9%8C_%E0%B9%80%E0%B8%94%E0%B8%AD%E0%B8%B0%E0%B8%8B%E0%B8%B5%E0%B8%A3%E0%B8%B5%E0%B8%AA%E0%B9%8C'}, {'year': '2559', 'name': 'แก๊สโซฮัก..รักเต็มถัง', 'on air': '6 กุมภาพันธ์ พ.ศ. 2559 - 19 มีนาคม พ.ศ. 25596 สิงหาคม พ.ศ. 2559 - 27 สิงหาคม พ.ศ. 2559\\n ไลน์ทีวีจีเอ็มเอ็ม 25', 'co-company': 'ภาพดีทวีสุข\\n', 'url': '/w/index.php?title=%E0%B9%81%E0%B8%81%E0%B9%8A%E0%B8%AA%E0%B9%82%E0%B8%8B%E0%B8%AE%E0%B8%B1%E0%B8%81..%E0%B8%A3%E0%B8%B1%E0%B8%81%E0%B9%80%E0%B8%95%E0%B9%87%E0%B8%A1%E0%B8%96%E0%B8%B1%E0%B8%87&action=edit&redlink=1'}, {'year': '2559', 'name': 'I See You พยาบาลพิเศษ..เคสพิศวง', 'on air': '7 พฤษภาคม พ.ศ. 2559 - 30 กรกฎาคม พ.ศ. 2559 จีเอ็มเอ็ม 25', 'co-company': 'ภาพดีทวีสุขวันเดอร์รามา\\n', 'url': '/wiki/I_See_You_%E0%B8%9E%E0%B8%A2%E0%B8%B2%E0%B8%9A%E0%B8%B2%E0%B8%A5%E0%B8%9E%E0%B8%B4%E0%B9%80%E0%B8%A8%E0%B8%A9..%E0%B9%80%E0%B8%84%E0%B8%AA%E0%B8%9E%E0%B8%B4%E0%B8%A8%E0%B8%A7%E0%B8%87'}, {'year': '2560', 'name': 'ไดอารี่ตุ๊ดซี่ส์ เดอะซีรีส์ 2', 'on air': '11 กุมภาพันธ์ พ.ศ. 2560 - 29 เมษายน พ.ศ. 2560\\n จีเอ็มเอ็ม 25\\n', 'co-company': 'จอกว้างฟิล์ม\\n', 'url': '/wiki/%E0%B9%84%E0%B8%94%E0%B8%AD%E0%B8%B2%E0%B8%A3%E0%B8%B5%E0%B9%88%E0%B8%95%E0%B8%B8%E0%B9%8A%E0%B8%94%E0%B8%8B%E0%B8%B5%E0%B9%88%E0%B8%AA%E0%B9%8C_%E0%B9%80%E0%B8%94%E0%B8%AD%E0%B8%B0%E0%B8%8B%E0%B8%B5%E0%B8%A3%E0%B8%B5%E0%B8%AA%E0%B9%8C'}, {'year': '2560', 'name': 'โปรเจกต์ เอส เดอะซีรีส์', 'on air': '20 พฤษภาคม พ.ศ. 2560 - 27 มกราคม พ.ศ. 2561 จีเอ็มเอ็ม 25\\n', 'co-company': 'นาดาวบางกอกจอกว้างฟิล์มหับโห้หิ้น บางกอก\\n', 'url': '/wiki/%E0%B9%82%E0%B8%9B%E0%B8%A3%E0%B9%80%E0%B8%88%E0%B8%81%E0%B8%95%E0%B9%8C_%E0%B9%80%E0%B8%AD%E0%B8%AA_%E0%B9%80%E0%B8%94%E0%B8%AD%E0%B8%B0%E0%B8%8B%E0%B8%B5%E0%B8%A3%E0%B8%B5%E0%B8%AA%E0%B9%8C'}, {'year': '2562\\n', 'name': 'One Year 365 วัน บ้านฉัน บ้านเธอ', 'on air': 'เริ่ม พฤศจิกายน พ.ศ. 2562 ไลน์ทีวี', 'co-company': 'ไลน์ คอร์ปอเรชันบีเอ็นเคโฟร์ตีเอต ออฟฟิศ\\n', 'url': '/w/index.php?title=One_Year_365_%E0%B8%A7%E0%B8%B1%E0%B8%99_%E0%B8%9A%E0%B9%89%E0%B8%B2%E0%B8%99%E0%B8%89%E0%B8%B1%E0%B8%99_%E0%B8%9A%E0%B9%89%E0%B8%B2%E0%B8%99%E0%B9%80%E0%B8%98%E0%B8%AD&action=edit&redlink=1'}, {'year': '2563\\n', 'name': 'ฉลาดเกมส์โกง เดอะซีรีส์', 'on air': 'เริ่ม กรกฎาคม พ.ศ. 2563\\n ช่องวัน\\n', 'co-company': 'นาดาวบางกอกจอกว้างฟิล์ม\\n', 'url': '/w/index.php?title=%E0%B8%89%E0%B8%A5%E0%B8%B2%E0%B8%94%E0%B9%80%E0%B8%81%E0%B8%A1%E0%B8%AA%E0%B9%8C%E0%B9%82%E0%B8%81%E0%B8%87_%E0%B9%80%E0%B8%94%E0%B8%AD%E0%B8%B0%E0%B8%8B%E0%B8%B5%E0%B8%A3%E0%B8%B5%E0%B8%AA%E0%B9%8C&action=edit&redlink=1'}]\n"
     ]
    }
   ],
   "source": [
    "# โค๊ดเหมือนเดิม ต่างแค่เอา urllib.parse.unquote ออก \n",
    "# เราเอากลับมาเป็น % encode เหมือนเดิมเพราะภาษาไทยใช้ในการแสดงผลเท่านั้น\n",
    "# ไม่สามารถนำ url ที่มีภาษาไทยต่อท้ายมา crawl data ได้\n",
    "\n",
    "movies = []\n",
    "\n",
    "for tr in rows[1:]:\n",
    "    movie = {}\n",
    "    cells = tr('td')\n",
    "    if cells[0].has_attr('rowspan'):\n",
    "        current_year = tr.td.text\n",
    "        cells = cells[1:]\n",
    "    if len(cells) == 5:\n",
    "        current_year = cells[0].text\n",
    "        cells = cells[1:]\n",
    "    movie['year'] = current_year\n",
    "    movie['name'] = cells[0].text.strip()\n",
    "    movie['on air'] = '%s %s' % (cells[1].text, cells[2].text)\n",
    "    movie['co-company'] = cells[3].text\n",
    "    if cells[0].a is not None:\n",
    "        # ครั้งนี้ไม่ต้อง unquote string แล้วในการนำไปใช้เราต้องใช้แบบ encode-string\n",
    "        movie['url'] = cells[0].a['href']\n",
    "    else:\n",
    "        movie['url'] = '-'\n",
    "    movies.append(movie)\n",
    "    \n",
    "print(movies)"
   ]
  },
  {
   "cell_type": "code",
   "execution_count": 68,
   "metadata": {},
   "outputs": [
    {
     "name": "stdout",
     "output_type": "stream",
     "text": [
      "Processing ไดอารี่ตุ๊ดซี่ส์ เดอะซีรีส์...\n",
      "Processing แก๊สโซฮัก..รักเต็มถัง...\n",
      "Processing I See You พยาบาลพิเศษ..เคสพิศวง...\n",
      "Processing ไดอารี่ตุ๊ดซี่ส์ เดอะซีรีส์ 2...\n",
      "Processing โปรเจกต์ เอส เดอะซีรีส์...\n",
      "Processing One Year 365 วัน บ้านฉัน บ้านเธอ...\n",
      "Processing ฉลาดเกมส์โกง เดอะซีรีส์...\n"
     ]
    }
   ],
   "source": [
    "for movie in movies:\n",
    "    print('Processing ' + movie['name'] + '...')\n",
    "\n",
    "    movie_html = urllib.request.urlopen('http://th.wikipedia.com' + movie['url'])\n",
    "    movie_soup = BeautifulSoup(movie_html, 'html.parser')\n",
    "    try:\n",
    "        direct_td = movie_soup.find('th', text='กำกับโดย').find_next()\n",
    "        movie['directors'] = [x.text for x in direct_td('a')] # list comprehension\n",
    "    except:\n",
    "        movie['directors'] = 'unknown'\n",
    "    \n",
    "    # มารยาทในการดึงข้อมูลเราควรที่จะต้องใส่ sleep เพื่อไม่ให้ server ทำงานหนักเกินไป\n",
    "    sleep(1) "
   ]
  },
  {
   "cell_type": "code",
   "execution_count": 30,
   "metadata": {},
   "outputs": [
    {
     "name": "stdout",
     "output_type": "stream",
     "text": [
      "ไดอารี่ตุ๊ดซี่ส์ เดอะซีรีส์ \t\t ['ปิยะชาติ ทองอ่วม', 'พัฒน์ บุญนิธิพัฒน์']\n",
      "แก๊สโซฮัก..รักเต็มถัง \t\t unknown\n",
      "I See You พยาบาลพิเศษ..เคสพิศวง \t\t ['ปริญญ์ กีรติรัตนลักษณ์']\n",
      "ไดอารี่ตุ๊ดซี่ส์ เดอะซีรีส์ 2 \t\t ['ปิยะชาติ ทองอ่วม', 'พัฒน์ บุญนิธิพัฒน์']\n",
      "โปรเจกต์ เอส เดอะซีรีส์ \t\t ['พิชย จรัสบุญประชา', 'นฤเบศ กูโน', 'พัฒน์ บุญนิธิพัฒน์', 'ธนีดา หาญทวีวัฒนา']\n",
      "One Year 365 วัน บ้านฉัน บ้านเธอ \t\t unknown\n",
      "ฉลาดเกมส์โกง เดอะซีรีส์ \t\t unknown\n"
     ]
    }
   ],
   "source": [
    "# แสดงผลรายชื่อผู้กำกับของหนังแต่ละเรื่อง (ถ้ามี)\n",
    "for m in movies:\n",
    "    print(\"%s \\t\\t %s\" % (m['name'], m['directors']))"
   ]
  },
  {
   "cell_type": "markdown",
   "metadata": {},
   "source": [
    "# Section 4: Assignment"
   ]
  },
  {
   "cell_type": "markdown",
   "metadata": {
    "colab_type": "text",
    "id": "3rfLOn1Ew7CN"
   },
   "source": [
    "### Assignment 1 : ผลงานภาพยนตร์ของ GDH\n",
    "\n",
    "ในแบบฝึกหัดต่อไป เราจะมาทำการดึงข้อมูลภาพยนตร์ของ GDH จากหน้าวิกิพีเดียกัน ว่าหนังแต่ละเรื่องเข้าฉายเมื่อไหร่ ทำรายได้ไปมากน้อยแค่ไหน และใครเป็นผู้กำกับ\n",
    "\n",
    "*** ความยากของตารางนี้คือมี rowspan มากกว่า 1 column ทำให้ต้องคิดนิดนึงว่าจะรับมือกับปัญหานี้อย่างไรดี ***\n",
    "\n",
    "<img src=\"source/product.png\" width=\"500\" align=\"left\">"
   ]
  },
  {
   "cell_type": "markdown",
   "metadata": {},
   "source": [
    "เช่นเคย เรามาเริ่มต้นจากการหา `<table>` ที่เราต้องการกันก่อน"
   ]
  },
  {
   "cell_type": "code",
   "execution_count": 162,
   "metadata": {},
   "outputs": [
    {
     "name": "stdout",
     "output_type": "stream",
     "text": [
      "<table class=\"wikitable\">\n",
      "<tbody><tr bgcolor=\"#CCCCCC\">\n",
      "<th>ปี</th>\n",
      "<th>ชื่อ</th>\n",
      "<th>ผู้กำกับ</th>\n",
      "<th>บริษัทผู้สร้าง</th>\n",
      "<th>วันออกฉาย\n",
      "</th></tr>\n",
      "<tr>\n",
      "<td rowspan=\"2\">2559\n",
      "</td>\n",
      "<td><i><a href=\"/wiki/%E0%B9%81%E0%B8%9F%E0%B8%99%E0%B9%80%E0%B8%94%E0%B8%A2%E0%B9%8C..%E0%B9%81%E0%B8%9F%E0%B8%99%E0%B8%81%E0%B8%B1%E0%B8%99%E0%B9%81%E0%B8%84%E0%B9%88%E0%B8%A7%E0%B8%B1%E0%B8%99%E0%B9%80%E0%B8%94%E0%B8%B5%E0%B8%A2%E0%B8%A7\" title=\"แฟนเดย์..แฟนกันแค่วันเดียว\">แฟนเดย์..แฟนกันแค่วันเดียว</a></i>\n",
      "</td>\n",
      "<td><a href=\"/wiki/%E0%B8%9A%E0%B8%A3%E0%B8%A3%E0%B8%88%E0%B8%87_%E0%B8%9B%E0%B8%B4%E0%B8%AA%E0%B8%B1%E0%B8%8D%E0%B8%98%E0%B8%99%E0%B8%B0%E0%B8%81%E0%B8%B9%E0%B8%A5\" title=\"บรรจง ปิสัญธนะกูล\">บรรจง ปิสัญธนะกูล</a>\n",
      "</td>\n",
      "<td rowspan=\"5\"><a href=\"/wiki/%E0%B8%88%E0%B8%AD%E0%B8%81%E0%B8%A7%E0%B9%89%E0%B8%B2%E0%B8%87_%E0%B8%9F%E0%B8%B4%E0%B8%A5%E0%B9%8C%E0%B8%A1\" title=\"จอกว้าง ฟิล์ม\">จอกว้าง ฟิล์ม</a>\n",
      "</td>\n",
      "<td>1 กันยายน พ.ศ. 2559\n",
      "</td></tr>\n",
      "<tr>\n",
      "<td><i><a href=\"/wiki/%E0%B8%9E%E0%B8%A3%E0%B8%88%E0%\n"
     ]
    }
   ],
   "source": [
    "# 4.1.1 : ค้นหาตารางที่เก็บข้อมูลภาพยนตร์\n",
    "\n",
    "table2 = soup.find(string='ภาพยนตร์').find_next('table')\n",
    "print(str(table2)[:1000])"
   ]
  },
  {
   "cell_type": "code",
   "execution_count": 163,
   "metadata": {
    "colab": {
     "autoexec": {
      "startup": false,
      "wait_interval": 0
     }
    },
    "colab_type": "code",
    "id": "v9LORAb6w7CU"
   },
   "outputs": [],
   "source": [
    "# 4.1.2 : copyตาราง และ extract 'rowspan' ทิ้ง \n",
    "\n",
    "simplified_table2 = copy.copy(table2) \n",
    "for td in simplified_table2('td', {'rowspan': True}):\n",
    "    td.extract() "
   ]
  },
  {
   "cell_type": "code",
   "execution_count": 164,
   "metadata": {
    "colab": {
     "autoexec": {
      "startup": false,
      "wait_interval": 0
     }
    },
    "colab_type": "code",
    "id": "IvU1U2w_w7Cc"
   },
   "outputs": [
    {
     "name": "stdout",
     "output_type": "stream",
     "text": [
      "\"แฟนเดย์..แฟนกันแค่วันเดียว\n",
      "\", \"บรรจง ปิสัญธนะกูล\n",
      "\", \"1 กันยายน พ.ศ. 2559\n",
      "\"\n",
      "\n",
      "\"พรจากฟ้า\n",
      "\", \"จิระ มะลิกุลนิธิวัฒน์ ธราธรชยนพ บุญประกอบเกรียงไกร วชิรธรรมพร\n",
      "\", \"1 ธันวาคม พ.ศ. 2559\n",
      "\"\n",
      "\n",
      "\"ฉลาดเกมส์โกง\n",
      "\", \"นัฐวุฒิ พูนพิริยะ\n",
      "\", \"3 พฤษภาคม พ.ศ. 2560\n",
      "\"\n",
      "\n",
      "\"เพื่อน..ที่ระลึก\n",
      "\", \"โสภณ ศักดาพิศิษฏ์\n",
      "\", \"7 กันยายน พ.ศ. 2560\n",
      "\"\n",
      "\n",
      "\"น้อง.พี่.ที่รัก\n",
      "\", \"วิทยา ทองอยู่ยง\n",
      "\", \"10 พฤษภาคม พ.ศ. 2561\n",
      "\"\n",
      "\n",
      "\"บีเอ็นเคโฟร์ตีเอต: เกิร์ลดอนต์คราย\n",
      "\", \"นวพล ธำรงรัตนฤทธิ์\n",
      "\", \"บีเอ็นเคโฟร์ตีเอต ออฟฟิศแซลมอน เฮ้าส์แพลน บี มีเดียเวรี่ แซด พิคเจอร์ส\n",
      "\", \"16 สิงหาคม พ.ศ. 2561\n",
      "\"\n",
      "\n",
      "\"2,215 เชื่อ บ้า กล้า ก้าว\n",
      "\", \"ณฐพล บุญประกอบ\n",
      "\", \"จีดีเอช\n",
      "\", \"6 กันยายน พ.ศ. 2561\n",
      "\"\n",
      "\n",
      "\"โฮมสเตย์\n",
      "\", \"ภาคภูมิ วงศ์ภูมิ\n",
      "\", \"25 ตุลาคม พ.ศ. 2561\n",
      "\"\n",
      "\n",
      "\"Friend Zone ระวัง..สิ้นสุดทางเพื่อน\n",
      "\", \"ชยนพ บุญประกอบ\n",
      "\", \"14 กุมภาพันธ์ พ.ศ. 2562\n",
      "\"\n",
      "\n",
      "\"ตุ๊ดซี่ส์ เดอะมูฟวี่\n",
      "\", \"ปิยะชาติ ทองอ่วม\n",
      "\", \"5 ธันวาคม พ.ศ. 2562\n",
      "\"\n",
      "\n",
      "\"Happy Old Year\n",
      "\", \"นวพล ธำรงรัตนฤทธิ์\n",
      "\", \"เวรี่ แซด พิคเจอร์สแฮปปี้ เอนดิ้ง ฟิล์ม\n",
      "\", \"26 ธันวาคม พ.ศ. 2562\n",
      "\"\n",
      "\n",
      "\"2563\n",
      "\", \"ซูเปอร์เจ๋ง ซ่าส์สะท้านโลก\n",
      "\", \"ภาคภูมิ วงศ์ภูมิ\n",
      "\", \"เอ็ม เทอร์ตี้ไนน์รฤก โปรดั๊กชั่น\n",
      "\"\n",
      "\n"
     ]
    }
   ],
   "source": [
    "# 4.1.3 : แสดงข้อมูลหลังจากที่ extract 'rowspan' ทิ้งไปแล้ว\n",
    "# สังเกตได้ว่า บาง row มีข้อมูล 3 elements บาง row มี 4 elements ขึ้นกับว่า แถวนั้นโดน extract 'rowspan' ไปหรือไม่\n",
    "\n",
    "for tr in simplified_table2('tr'):\n",
    "    cells = tr('td')\n",
    "    if len(cells): \n",
    "        try:\n",
    "            print('\"%s\", \"%s\", \"%s\", \"%s\"' % (cells[0].text, cells[1].text, cells[2].text, cells[3].text))\n",
    "            print()\n",
    "        except:\n",
    "            print('\"%s\", \"%s\", \"%s\"' % (cells[0].text, cells[1].text, cells[2].text))\n",
    "            print()"
   ]
  },
  {
   "cell_type": "markdown",
   "metadata": {
    "colab_type": "text",
    "id": "tyuzG3sxw7Cp"
   },
   "source": [
    "สำหรับคนที่อยากรู้ว่า ถ้าจะเอาข้อมูลปีที่เข้าฉายมาใช้ด้วย เราจะทำได้อย่างไร ลองพยายามทำความเข้าใจโค้ดข้างล่างนี้ดู"
   ]
  },
  {
   "cell_type": "code",
   "execution_count": 165,
   "metadata": {
    "colab": {
     "autoexec": {
      "startup": false,
      "wait_interval": 0
     }
    },
    "colab_type": "code",
    "id": "HiByo5WQw7Cq"
   },
   "outputs": [
    {
     "name": "stdout",
     "output_type": "stream",
     "text": [
      "{'year': '2559', 'name': 'แฟนเดย์..แฟนกันแค่วันเดียว', 'director': 'บรรจง ปิสัญธนะกูล', 'company': 'จอกว้าง ฟิล์ม', 'release': '1 กันยายน พ.ศ. 2559', 'url': '/wiki/%E0%B9%81%E0%B8%9F%E0%B8%99%E0%B9%80%E0%B8%94%E0%B8%A2%E0%B9%8C..%E0%B9%81%E0%B8%9F%E0%B8%99%E0%B8%81%E0%B8%B1%E0%B8%99%E0%B9%81%E0%B8%84%E0%B9%88%E0%B8%A7%E0%B8%B1%E0%B8%99%E0%B9%80%E0%B8%94%E0%B8%B5%E0%B8%A2%E0%B8%A7'}\n",
      "\n",
      "\n",
      "{'year': '2559', 'name': 'พรจากฟ้า', 'director': 'จิระ มะลิกุลนิธิวัฒน์ ธราธรชยนพ บุญประกอบเกรียงไกร วชิรธรรมพร', 'company': 'จอกว้าง ฟิล์ม', 'release': '1 ธันวาคม พ.ศ. 2559', 'url': '/wiki/%E0%B8%9E%E0%B8%A3%E0%B8%88%E0%B8%B2%E0%B8%81%E0%B8%9F%E0%B9%89%E0%B8%B2'}\n",
      "\n",
      "\n",
      "{'year': '2560', 'name': 'ฉลาดเกมส์โกง', 'director': 'นัฐวุฒิ พูนพิริยะ', 'company': 'จอกว้าง ฟิล์ม', 'release': '3 พฤษภาคม พ.ศ. 2560', 'url': '/wiki/%E0%B8%89%E0%B8%A5%E0%B8%B2%E0%B8%94%E0%B9%80%E0%B8%81%E0%B8%A1%E0%B8%AA%E0%B9%8C%E0%B9%82%E0%B8%81%E0%B8%87'}\n",
      "\n",
      "\n",
      "{'year': '2560', 'name': 'เพื่อน..ที่ระลึก', 'director': 'โสภณ ศักดาพิศิษฏ์', 'company': 'จอกว้าง ฟิล์ม', 'release': '7 กันยายน พ.ศ. 2560', 'url': '/wiki/%E0%B9%80%E0%B8%9E%E0%B8%B7%E0%B9%88%E0%B8%AD%E0%B8%99..%E0%B8%97%E0%B8%B5%E0%B9%88%E0%B8%A3%E0%B8%B0%E0%B8%A5%E0%B8%B6%E0%B8%81'}\n",
      "\n",
      "\n",
      "{'year': '2561', 'name': 'น้อง.พี่.ที่รัก', 'director': 'วิทยา ทองอยู่ยง', 'company': 'จอกว้าง ฟิล์ม', 'release': '10 พฤษภาคม พ.ศ. 2561', 'url': '/wiki/%E0%B8%99%E0%B9%89%E0%B8%AD%E0%B8%87.%E0%B8%9E%E0%B8%B5%E0%B9%88.%E0%B8%97%E0%B8%B5%E0%B9%88%E0%B8%A3%E0%B8%B1%E0%B8%81'}\n",
      "\n",
      "\n",
      "{'year': '2561', 'name': 'บีเอ็นเคโฟร์ตีเอต: เกิร์ลดอนต์คราย', 'director': 'นวพล ธำรงรัตนฤทธิ์', 'company': 'จอกว้าง ฟิล์ม', 'release': '16 สิงหาคม พ.ศ. 2561', 'url': '/wiki/%E0%B8%9A%E0%B8%B5%E0%B9%80%E0%B8%AD%E0%B9%87%E0%B8%99%E0%B9%80%E0%B8%84%E0%B9%82%E0%B8%9F%E0%B8%A3%E0%B9%8C%E0%B8%95%E0%B8%B5%E0%B9%80%E0%B8%AD%E0%B8%95:_%E0%B9%80%E0%B8%81%E0%B8%B4%E0%B8%A3%E0%B9%8C%E0%B8%A5%E0%B8%94%E0%B8%AD%E0%B8%99%E0%B8%95%E0%B9%8C%E0%B8%84%E0%B8%A3%E0%B8%B2%E0%B8%A2'}\n",
      "\n",
      "\n",
      "{'year': '2561', 'name': '2,215 เชื่อ บ้า กล้า ก้าว', 'director': 'ณฐพล บุญประกอบ', 'company': 'จอกว้าง ฟิล์ม', 'release': '6 กันยายน พ.ศ. 2561', 'url': '/wiki/2,215_%E0%B9%80%E0%B8%8A%E0%B8%B7%E0%B9%88%E0%B8%AD_%E0%B8%9A%E0%B9%89%E0%B8%B2_%E0%B8%81%E0%B8%A5%E0%B9%89%E0%B8%B2_%E0%B8%81%E0%B9%89%E0%B8%B2%E0%B8%A7'}\n",
      "\n",
      "\n",
      "{'year': '2561', 'name': 'โฮมสเตย์', 'director': 'ภาคภูมิ วงศ์ภูมิ', 'company': 'จอกว้าง ฟิล์ม', 'release': '25 ตุลาคม พ.ศ. 2561', 'url': '/wiki/%E0%B9%82%E0%B8%AE%E0%B8%A1%E0%B8%AA%E0%B9%80%E0%B8%95%E0%B8%A2%E0%B9%8C_(%E0%B8%A0%E0%B8%B2%E0%B8%9E%E0%B8%A2%E0%B8%99%E0%B8%95%E0%B8%A3%E0%B9%8C%E0%B9%84%E0%B8%97%E0%B8%A2_%E0%B8%9E.%E0%B8%A8._2561)'}\n",
      "\n",
      "\n",
      "{'year': '2562', 'name': 'Friend Zone ระวัง..สิ้นสุดทางเพื่อน', 'director': 'ชยนพ บุญประกอบ', 'company': 'จอกว้าง ฟิล์ม', 'release': '14 กุมภาพันธ์ พ.ศ. 2562', 'url': '/wiki/Friend_Zone_%E0%B8%A3%E0%B8%B0%E0%B8%A7%E0%B8%B1%E0%B8%87..%E0%B8%AA%E0%B8%B4%E0%B9%89%E0%B8%99%E0%B8%AA%E0%B8%B8%E0%B8%94%E0%B8%97%E0%B8%B2%E0%B8%87%E0%B9%80%E0%B8%9E%E0%B8%B7%E0%B9%88%E0%B8%AD%E0%B8%99'}\n",
      "\n",
      "\n",
      "{'year': '2562', 'name': 'ตุ๊ดซี่ส์ เดอะมูฟวี่', 'director': 'ปิยะชาติ ทองอ่วม', 'company': 'จอกว้าง ฟิล์ม', 'release': '5 ธันวาคม พ.ศ. 2562', 'url': '-'}\n",
      "\n",
      "\n",
      "{'year': '2562', 'name': 'Happy Old Year', 'director': 'นวพล ธำรงรัตนฤทธิ์', 'company': 'จอกว้าง ฟิล์ม', 'release': '26 ธันวาคม พ.ศ. 2562', 'url': '-'}\n",
      "\n",
      "\n",
      "{'year': '2563', 'name': 'ซูเปอร์เจ๋ง ซ่าส์สะท้านโลก', 'director': 'ภาคภูมิ วงศ์ภูมิ', 'company': 'เอ็ม เทอร์ตี้ไนน์รฤก โปรดั๊กชั่น', 'release': 'ยังไม่ประกาศ', 'url': '-'}\n",
      "\n",
      "\n"
     ]
    }
   ],
   "source": [
    "# 4.1.4 : copy ข้อมูล table ไว้เพื่อที่จะได้ไม่ต้องเก็บใหม่ ในกรณีที่ข้อมูลถูกแก้ไขหรือเสียหายก็สามารถดึงข้อมูลจากต้นฉบับได้เลย\n",
    "dup_table2 = copy.copy(table2)\n",
    "\n",
    "rows = dup_table2('tr')\n",
    "header = rows[0]\n",
    "n_cols = len(header('th'))\n",
    "\n",
    "current_year = None\n",
    "company = None\n",
    "movies = []\n",
    "\n",
    "# วน loop ทุกๆ row\n",
    "for tr in rows[1:]:\n",
    "    movie = {}\n",
    "    # เลือกทุก column ในแถวนั้น จะได้ [ปี พ.ศ., ชื่อ, ผู้กำกับ, บริษัทผู้สร้าง, วันออกฉาย]\n",
    "    cells = tr('td')\n",
    "    # ถ้า column ในแถวนั้นมี attribute 'rowspan' ให้เก็บ text นั้นไว้ใน current_year\n",
    "    if cells[0].has_attr('rowspan'):\n",
    "        current_year = cells[0].text\n",
    "    try: \n",
    "        if cells[3].has_attr('rowspan'):\n",
    "            company = cells[3].text\n",
    "    except:\n",
    "        pass\n",
    "    \n",
    "    if len(cells) == 5:\n",
    "        current_year = cells[0].text\n",
    "        company = cells[3].text\n",
    "        cells = cells[1:]\n",
    "    elif len(cells) == 4:\n",
    "        try:\n",
    "            ind = int(cells[0].text)\n",
    "            if type(ind) is int:\n",
    "                cells = cells[1:]\n",
    "        except Exception as e:\n",
    "            cells = cells[:2] + cells[3:]\n",
    "\n",
    "    movie['year'] = current_year.strip()\n",
    "    movie['name'] = cells[0].text.strip()\n",
    "    movie['director'] = cells[1].text.strip()\n",
    "    movie['company'] = company.strip()\n",
    "    movie['release'] = cells[-1].text.strip()\n",
    "    \n",
    "    if cells[0].a is not None:\n",
    "        # ต้องแปลงจากภาษาไทยให้เป็น encode-string\n",
    "        movie['url'] = cells[0].a['href']\n",
    "    else:\n",
    "        movie['url'] = '-'\n",
    "    movies.append(movie)\n",
    "\n",
    "for m in movies:\n",
    "    print(m)\n",
    "    print(\"\\n\")"
   ]
  },
  {
   "cell_type": "markdown",
   "metadata": {},
   "source": [
    "นำข้อมูลรายได้ของหนังแต่ละเรื่อง (เฉพาะภาพยนตร์ที่มี link) มาแสดงผล "
   ]
  },
  {
   "cell_type": "code",
   "execution_count": 179,
   "metadata": {
    "colab": {
     "autoexec": {
      "startup": false,
      "wait_interval": 0
     }
    },
    "colab_type": "code",
    "id": "9CdEU2ksw7Ct"
   },
   "outputs": [
    {
     "name": "stdout",
     "output_type": "stream",
     "text": [
      "Processing แฟนเดย์..แฟนกันแค่วันเดียว...\n",
      "Processing พรจากฟ้า...\n",
      "Processing ฉลาดเกมส์โกง...\n",
      "Processing เพื่อน..ที่ระลึก...\n",
      "Processing น้อง.พี่.ที่รัก...\n",
      "Processing บีเอ็นเคโฟร์ตีเอต: เกิร์ลดอนต์คราย...\n",
      "Processing 2,215 เชื่อ บ้า กล้า ก้าว...\n",
      "Processing โฮมสเตย์...\n",
      "Processing Friend Zone ระวัง..สิ้นสุดทางเพื่อน...\n",
      "Processing ตุ๊ดซี่ส์ เดอะมูฟวี่...\n",
      "Processing Happy Old Year...\n",
      "Processing ซูเปอร์เจ๋ง ซ่าส์สะท้านโลก...\n"
     ]
    }
   ],
   "source": [
    "for movie in movies:\n",
    "    print('Processing ' + movie['name'] + '...')\n",
    "    \n",
    "    try:\n",
    "        movie_html = urllib.request.urlopen('http://th.wikipedia.com' + movie['url'])\n",
    "        movie_soup = BeautifulSoup(movie_html, 'html.parser')\n",
    "        income_td = movie_soup.find('th', text='รายได้').find_next('td')\n",
    "        movie['gross'] = income_td.text.split(\" \")[0] # list comprehension\n",
    "    except Exception as e:\n",
    "        movie['gross'] = 'unknown'\n",
    "    \n",
    "    # มารยาทในการดึงข้อมูลเราควรที่จะต้องใส่ sleep เพื่อไม่ให้ server ทำงานหนักเกินไป\n",
    "    sleep(1) "
   ]
  },
  {
   "cell_type": "code",
   "execution_count": 181,
   "metadata": {
    "colab": {
     "autoexec": {
      "startup": false,
      "wait_interval": 0
     }
    },
    "colab_type": "code",
    "id": "STAijwFew7Cw"
   },
   "outputs": [
    {
     "name": "stdout",
     "output_type": "stream",
     "text": [
      "\"แฟนเดย์..แฟนกันแค่วันเดียว\", \"1 กันยายน พ.ศ. 2559\", \"บรรจง ปิสัญธนะกูล\", \"110.91 ล้านบาท\"\n",
      "\"พรจากฟ้า\", \"1 ธันวาคม พ.ศ. 2559\", \"จิระ มะลิกุลนิธิวัฒน์ ธราธรชยนพ บุญประกอบเกรียงไกร วชิรธรรมพร\", \"42.88 ล้านบาท\"\n",
      "\"ฉลาดเกมส์โกง\", \"3 พฤษภาคม พ.ศ. 2560\", \"นัฐวุฒิ พูนพิริยะ\", \"112.15 ล้านบาท\"\n",
      "\"เพื่อน..ที่ระลึก\", \"7 กันยายน พ.ศ. 2560\", \"โสภณ ศักดาพิศิษฏ์\", \"34.70 ล้านบาท\"\n",
      "\"น้อง.พี่.ที่รัก\", \"10 พฤษภาคม พ.ศ. 2561\", \"วิทยา ทองอยู่ยง\", \"244 ล้านบาท\"\n",
      "\"บีเอ็นเคโฟร์ตีเอต: เกิร์ลดอนต์คราย\", \"16 สิงหาคม พ.ศ. 2561\", \"นวพล ธำรงรัตนฤทธิ์\", \"13.35 ล้านบาท\"\n",
      "\"2,215 เชื่อ บ้า กล้า ก้าว\", \"6 กันยายน พ.ศ. 2561\", \"ณฐพล บุญประกอบ\", \"7.36 ล้านบาท\"\n",
      "\"โฮมสเตย์\", \"25 ตุลาคม พ.ศ. 2561\", \"ภาคภูมิ วงศ์ภูมิ\", \"67.11 ล้านบาท\"\n",
      "\"Friend Zone ระวัง..สิ้นสุดทางเพื่อน\", \"14 กุมภาพันธ์ พ.ศ. 2562\", \"ชยนพ บุญประกอบ\", \"130.08 ล้านบาท\"\n",
      "\"ตุ๊ดซี่ส์ เดอะมูฟวี่\", \"5 ธันวาคม พ.ศ. 2562\", \"ปิยะชาติ ทองอ่วม\", \"unknown ล้านบาท\"\n",
      "\"Happy Old Year\", \"26 ธันวาคม พ.ศ. 2562\", \"นวพล ธำรงรัตนฤทธิ์\", \"unknown ล้านบาท\"\n",
      "\"ซูเปอร์เจ๋ง ซ่าส์สะท้านโลก\", \"ยังไม่ประกาศ\", \"ภาคภูมิ วงศ์ภูมิ\", \"unknown ล้านบาท\"\n"
     ]
    }
   ],
   "source": [
    "for m in movies:\n",
    "    print('\"%s\", \"%s\", \"%s\", \"%s ล้านบาท\"' % \n",
    "          (m['name'], m['release'], m['director'], m['gross']))"
   ]
  },
  {
   "cell_type": "code",
   "execution_count": null,
   "metadata": {
    "colab_type": "text",
    "id": "5OptC8Rsw7Cz"
   },
   "outputs": [],
   "source": []
  }
 ],
 "metadata": {
  "colab": {
   "collapsed_sections": [],
   "default_view": {},
   "name": "01-web-scraping.ipynb",
   "private_outputs": true,
   "provenance": [],
   "version": "0.3.2",
   "views": {}
  },
  "kernelspec": {
   "display_name": "Python 3",
   "language": "python",
   "name": "python3"
  },
  "language_info": {
   "codemirror_mode": {
    "name": "ipython",
    "version": 3
   },
   "file_extension": ".py",
   "mimetype": "text/x-python",
   "name": "python",
   "nbconvert_exporter": "python",
   "pygments_lexer": "ipython3",
   "version": "3.7.4"
  }
 },
 "nbformat": 4,
 "nbformat_minor": 4
}
